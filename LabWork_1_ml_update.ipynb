{
 "cells": [
  {
   "cell_type": "code",
   "execution_count": 160,
   "id": "d6b5d99c",
   "metadata": {},
   "outputs": [],
   "source": [
    "#Подлкючение библиотек\n",
    "import numpy as np\n",
    "import matplotlib.pyplot as plt\n",
    "%matplotlib inline\n",
    "import pandas as pd\n",
    "import seaborn as sns\n",
    "import sklearn as sk\n",
    "from sklearn.metrics import confusion_matrix"
   ]
  },
  {
   "cell_type": "markdown",
   "id": "aa05943b",
   "metadata": {},
   "source": [
    "# 0-Постановка задачи\n",
    "### Ввведение\n",
    "По оценкам Всемирной организации здравоохранения, ежегодно во всем мире умирает 12 миллионов человек из-за болезней сердца. Половина смертей в США и других развитых странах происходит из-за сердечно-сосудистых заболеваний. Ранний прогноз сердечно-сосудистых заболеваний может помочь в принятии решений об изменении образа жизни у пациентов с высоким риском и, в свою очередь, уменьшить количество осложнений. Это исследование направлено на выявление наиболее актуальных факторов риска сердечных заболеваний\n",
    "# Тип задачи: Classification\n",
    "## Основная задача: предсказать, есть ли у пациента 10-летний риск ишемической болезни сердца ИБС или нет"
   ]
  },
  {
   "cell_type": "markdown",
   "id": "0ac237ff",
   "metadata": {},
   "source": [
    "# 1-Чтение  данных"
   ]
  },
  {
   "cell_type": "code",
   "execution_count": 112,
   "id": "00bbbdb3",
   "metadata": {},
   "outputs": [],
   "source": [
    "url = \"Heart disease.csv\"\n",
    "X = pd.read_csv(url)"
   ]
  },
  {
   "cell_type": "code",
   "execution_count": 113,
   "id": "d79e065c",
   "metadata": {},
   "outputs": [
    {
     "data": {
      "text/plain": [
       "(3390, 17)"
      ]
     },
     "execution_count": 113,
     "metadata": {},
     "output_type": "execute_result"
    }
   ],
   "source": [
    "X.shape"
   ]
  },
  {
   "cell_type": "code",
   "execution_count": 114,
   "id": "3e91ddb1",
   "metadata": {},
   "outputs": [
    {
     "data": {
      "text/html": [
       "<div>\n",
       "<style scoped>\n",
       "    .dataframe tbody tr th:only-of-type {\n",
       "        vertical-align: middle;\n",
       "    }\n",
       "\n",
       "    .dataframe tbody tr th {\n",
       "        vertical-align: top;\n",
       "    }\n",
       "\n",
       "    .dataframe thead th {\n",
       "        text-align: right;\n",
       "    }\n",
       "</style>\n",
       "<table border=\"1\" class=\"dataframe\">\n",
       "  <thead>\n",
       "    <tr style=\"text-align: right;\">\n",
       "      <th></th>\n",
       "      <th>id</th>\n",
       "      <th>age</th>\n",
       "      <th>education</th>\n",
       "      <th>sex</th>\n",
       "      <th>is_smoking</th>\n",
       "      <th>cigsPerDay</th>\n",
       "      <th>BPMeds</th>\n",
       "      <th>prevalentStroke</th>\n",
       "      <th>prevalentHyp</th>\n",
       "      <th>diabetes</th>\n",
       "      <th>totChol</th>\n",
       "      <th>sysBP</th>\n",
       "      <th>diaBP</th>\n",
       "      <th>BMI</th>\n",
       "      <th>heartRate</th>\n",
       "      <th>glucose</th>\n",
       "      <th>TenYearCHD</th>\n",
       "    </tr>\n",
       "  </thead>\n",
       "  <tbody>\n",
       "    <tr>\n",
       "      <th>0</th>\n",
       "      <td>0</td>\n",
       "      <td>64</td>\n",
       "      <td>2.0</td>\n",
       "      <td>F</td>\n",
       "      <td>YES</td>\n",
       "      <td>3.0</td>\n",
       "      <td>0.0</td>\n",
       "      <td>0</td>\n",
       "      <td>0</td>\n",
       "      <td>0</td>\n",
       "      <td>221.0</td>\n",
       "      <td>148.0</td>\n",
       "      <td>85.0</td>\n",
       "      <td>NaN</td>\n",
       "      <td>90.0</td>\n",
       "      <td>80.0</td>\n",
       "      <td>1</td>\n",
       "    </tr>\n",
       "    <tr>\n",
       "      <th>1</th>\n",
       "      <td>1</td>\n",
       "      <td>36</td>\n",
       "      <td>4.0</td>\n",
       "      <td>M</td>\n",
       "      <td>NO</td>\n",
       "      <td>0.0</td>\n",
       "      <td>0.0</td>\n",
       "      <td>0</td>\n",
       "      <td>1</td>\n",
       "      <td>0</td>\n",
       "      <td>212.0</td>\n",
       "      <td>168.0</td>\n",
       "      <td>98.0</td>\n",
       "      <td>29.77</td>\n",
       "      <td>72.0</td>\n",
       "      <td>75.0</td>\n",
       "      <td>0</td>\n",
       "    </tr>\n",
       "    <tr>\n",
       "      <th>2</th>\n",
       "      <td>2</td>\n",
       "      <td>46</td>\n",
       "      <td>1.0</td>\n",
       "      <td>F</td>\n",
       "      <td>YES</td>\n",
       "      <td>10.0</td>\n",
       "      <td>0.0</td>\n",
       "      <td>0</td>\n",
       "      <td>0</td>\n",
       "      <td>0</td>\n",
       "      <td>250.0</td>\n",
       "      <td>116.0</td>\n",
       "      <td>71.0</td>\n",
       "      <td>20.35</td>\n",
       "      <td>88.0</td>\n",
       "      <td>94.0</td>\n",
       "      <td>0</td>\n",
       "    </tr>\n",
       "    <tr>\n",
       "      <th>3</th>\n",
       "      <td>3</td>\n",
       "      <td>50</td>\n",
       "      <td>1.0</td>\n",
       "      <td>M</td>\n",
       "      <td>YES</td>\n",
       "      <td>20.0</td>\n",
       "      <td>0.0</td>\n",
       "      <td>0</td>\n",
       "      <td>1</td>\n",
       "      <td>0</td>\n",
       "      <td>233.0</td>\n",
       "      <td>158.0</td>\n",
       "      <td>88.0</td>\n",
       "      <td>28.26</td>\n",
       "      <td>68.0</td>\n",
       "      <td>94.0</td>\n",
       "      <td>1</td>\n",
       "    </tr>\n",
       "    <tr>\n",
       "      <th>4</th>\n",
       "      <td>4</td>\n",
       "      <td>64</td>\n",
       "      <td>1.0</td>\n",
       "      <td>F</td>\n",
       "      <td>YES</td>\n",
       "      <td>30.0</td>\n",
       "      <td>0.0</td>\n",
       "      <td>0</td>\n",
       "      <td>0</td>\n",
       "      <td>0</td>\n",
       "      <td>241.0</td>\n",
       "      <td>136.5</td>\n",
       "      <td>85.0</td>\n",
       "      <td>26.42</td>\n",
       "      <td>70.0</td>\n",
       "      <td>77.0</td>\n",
       "      <td>0</td>\n",
       "    </tr>\n",
       "    <tr>\n",
       "      <th>...</th>\n",
       "      <td>...</td>\n",
       "      <td>...</td>\n",
       "      <td>...</td>\n",
       "      <td>...</td>\n",
       "      <td>...</td>\n",
       "      <td>...</td>\n",
       "      <td>...</td>\n",
       "      <td>...</td>\n",
       "      <td>...</td>\n",
       "      <td>...</td>\n",
       "      <td>...</td>\n",
       "      <td>...</td>\n",
       "      <td>...</td>\n",
       "      <td>...</td>\n",
       "      <td>...</td>\n",
       "      <td>...</td>\n",
       "      <td>...</td>\n",
       "    </tr>\n",
       "    <tr>\n",
       "      <th>3385</th>\n",
       "      <td>3385</td>\n",
       "      <td>60</td>\n",
       "      <td>1.0</td>\n",
       "      <td>F</td>\n",
       "      <td>NO</td>\n",
       "      <td>0.0</td>\n",
       "      <td>0.0</td>\n",
       "      <td>0</td>\n",
       "      <td>0</td>\n",
       "      <td>0</td>\n",
       "      <td>261.0</td>\n",
       "      <td>123.5</td>\n",
       "      <td>79.0</td>\n",
       "      <td>29.28</td>\n",
       "      <td>70.0</td>\n",
       "      <td>103.0</td>\n",
       "      <td>0</td>\n",
       "    </tr>\n",
       "    <tr>\n",
       "      <th>3386</th>\n",
       "      <td>3386</td>\n",
       "      <td>46</td>\n",
       "      <td>1.0</td>\n",
       "      <td>F</td>\n",
       "      <td>NO</td>\n",
       "      <td>0.0</td>\n",
       "      <td>0.0</td>\n",
       "      <td>0</td>\n",
       "      <td>0</td>\n",
       "      <td>0</td>\n",
       "      <td>199.0</td>\n",
       "      <td>102.0</td>\n",
       "      <td>56.0</td>\n",
       "      <td>21.96</td>\n",
       "      <td>80.0</td>\n",
       "      <td>84.0</td>\n",
       "      <td>0</td>\n",
       "    </tr>\n",
       "    <tr>\n",
       "      <th>3387</th>\n",
       "      <td>3387</td>\n",
       "      <td>44</td>\n",
       "      <td>3.0</td>\n",
       "      <td>M</td>\n",
       "      <td>YES</td>\n",
       "      <td>3.0</td>\n",
       "      <td>0.0</td>\n",
       "      <td>0</td>\n",
       "      <td>1</td>\n",
       "      <td>0</td>\n",
       "      <td>352.0</td>\n",
       "      <td>164.0</td>\n",
       "      <td>119.0</td>\n",
       "      <td>28.92</td>\n",
       "      <td>73.0</td>\n",
       "      <td>72.0</td>\n",
       "      <td>1</td>\n",
       "    </tr>\n",
       "    <tr>\n",
       "      <th>3388</th>\n",
       "      <td>3388</td>\n",
       "      <td>60</td>\n",
       "      <td>1.0</td>\n",
       "      <td>M</td>\n",
       "      <td>NO</td>\n",
       "      <td>0.0</td>\n",
       "      <td>NaN</td>\n",
       "      <td>0</td>\n",
       "      <td>1</td>\n",
       "      <td>0</td>\n",
       "      <td>191.0</td>\n",
       "      <td>167.0</td>\n",
       "      <td>105.0</td>\n",
       "      <td>23.01</td>\n",
       "      <td>80.0</td>\n",
       "      <td>85.0</td>\n",
       "      <td>0</td>\n",
       "    </tr>\n",
       "    <tr>\n",
       "      <th>3389</th>\n",
       "      <td>3389</td>\n",
       "      <td>54</td>\n",
       "      <td>3.0</td>\n",
       "      <td>F</td>\n",
       "      <td>NO</td>\n",
       "      <td>0.0</td>\n",
       "      <td>0.0</td>\n",
       "      <td>0</td>\n",
       "      <td>0</td>\n",
       "      <td>0</td>\n",
       "      <td>288.0</td>\n",
       "      <td>124.0</td>\n",
       "      <td>77.0</td>\n",
       "      <td>29.88</td>\n",
       "      <td>79.0</td>\n",
       "      <td>92.0</td>\n",
       "      <td>0</td>\n",
       "    </tr>\n",
       "  </tbody>\n",
       "</table>\n",
       "<p>3390 rows × 17 columns</p>\n",
       "</div>"
      ],
      "text/plain": [
       "        id  age  education sex is_smoking  cigsPerDay  BPMeds  \\\n",
       "0        0   64        2.0   F        YES         3.0     0.0   \n",
       "1        1   36        4.0   M         NO         0.0     0.0   \n",
       "2        2   46        1.0   F        YES        10.0     0.0   \n",
       "3        3   50        1.0   M        YES        20.0     0.0   \n",
       "4        4   64        1.0   F        YES        30.0     0.0   \n",
       "...    ...  ...        ...  ..        ...         ...     ...   \n",
       "3385  3385   60        1.0   F         NO         0.0     0.0   \n",
       "3386  3386   46        1.0   F         NO         0.0     0.0   \n",
       "3387  3387   44        3.0   M        YES         3.0     0.0   \n",
       "3388  3388   60        1.0   M         NO         0.0     NaN   \n",
       "3389  3389   54        3.0   F         NO         0.0     0.0   \n",
       "\n",
       "      prevalentStroke  prevalentHyp  diabetes  totChol  sysBP  diaBP    BMI  \\\n",
       "0                   0             0         0    221.0  148.0   85.0    NaN   \n",
       "1                   0             1         0    212.0  168.0   98.0  29.77   \n",
       "2                   0             0         0    250.0  116.0   71.0  20.35   \n",
       "3                   0             1         0    233.0  158.0   88.0  28.26   \n",
       "4                   0             0         0    241.0  136.5   85.0  26.42   \n",
       "...               ...           ...       ...      ...    ...    ...    ...   \n",
       "3385                0             0         0    261.0  123.5   79.0  29.28   \n",
       "3386                0             0         0    199.0  102.0   56.0  21.96   \n",
       "3387                0             1         0    352.0  164.0  119.0  28.92   \n",
       "3388                0             1         0    191.0  167.0  105.0  23.01   \n",
       "3389                0             0         0    288.0  124.0   77.0  29.88   \n",
       "\n",
       "      heartRate  glucose  TenYearCHD  \n",
       "0          90.0     80.0           1  \n",
       "1          72.0     75.0           0  \n",
       "2          88.0     94.0           0  \n",
       "3          68.0     94.0           1  \n",
       "4          70.0     77.0           0  \n",
       "...         ...      ...         ...  \n",
       "3385       70.0    103.0           0  \n",
       "3386       80.0     84.0           0  \n",
       "3387       73.0     72.0           1  \n",
       "3388       80.0     85.0           0  \n",
       "3389       79.0     92.0           0  \n",
       "\n",
       "[3390 rows x 17 columns]"
      ]
     },
     "execution_count": 114,
     "metadata": {},
     "output_type": "execute_result"
    }
   ],
   "source": [
    "X"
   ]
  },
  {
   "cell_type": "markdown",
   "id": "4a651d58",
   "metadata": {},
   "source": [
    "# 2-Визуализация данных и вычисление основных характеристик (среднее, разброс, корреляционная матрица ...)"
   ]
  },
  {
   "cell_type": "code",
   "execution_count": 115,
   "id": "7eca8a4b",
   "metadata": {},
   "outputs": [
    {
     "data": {
      "text/plain": [
       "Index(['id', 'age', 'education', 'sex', 'is_smoking', 'cigsPerDay', 'BPMeds',\n",
       "       'prevalentStroke', 'prevalentHyp', 'diabetes', 'totChol', 'sysBP',\n",
       "       'diaBP', 'BMI', 'heartRate', 'glucose', 'TenYearCHD'],\n",
       "      dtype='object')"
      ]
     },
     "execution_count": 115,
     "metadata": {},
     "output_type": "execute_result"
    }
   ],
   "source": [
    "X.columns"
   ]
  },
  {
   "cell_type": "markdown",
   "id": "f04b7321",
   "metadata": {},
   "source": [
    "0 - id - количественный признак\n",
    "\n",
    "1 - возраст пациента (age) - количественный признак\n",
    "\n",
    "2 - образование (education) - количественный признак\n",
    "\n",
    "3 - пол (sex) - категориальный признак\n",
    "\n",
    "4 - курящий/не курящий (is_smoking) - категориальный признак\n",
    "\n",
    "5 - количество сигарет, которое человек выкуривает в среднем за один день (cigsPerDay) - количественный признак\n",
    "\n",
    "6 - принимал ли пациент лекарства от артериального давления (BPMeds) - бинарный признак\n",
    "\n",
    "7 - был ли у пациента ранее инсульт (PrevalentStroke) - бинарный признак\n",
    "\n",
    "8 - была ли у пациента гипертоническая болезнь (prevalentHyp) - бинарный признак\n",
    "\n",
    "9 - был ли у пациента диабет (diabetes) - бинарный признак\n",
    "\n",
    "10 - уровень общего холестерина (totChol) - количественный признак\n",
    "\n",
    "11 - систолическое артериальное давление (sysBP) - количественный признак\n",
    "\n",
    "12 - диастолическое артериальное давление (diaBP) - количественный признак\n",
    "\n",
    "13 - индекс массы тела (BMI) - количественный признак\n",
    "\n",
    "14 - частота сердечных сокращений (heartRate) - количественный признак\n",
    "\n",
    "15 - глюкоза (glucose) - количественный признак\n",
    "\n",
    "16 - 10-летний риск ишемической болезни сердца ИБС (TenYearCHD) - бинарный признак (двоичный: «1» означает «Да», «0» означает «Нет»)\n",
    "\n",
    "Всего : 10 - количественных признаков, 2 - категориальных признака, 5 - бинарных признаков\n",
    "\n"
   ]
  },
  {
   "cell_type": "markdown",
   "id": "3fd12f36",
   "metadata": {},
   "source": [
    "## В датасете присутствуют как категориальные, так и количественные признаки.\n",
    "### Для начала рассмотрим основные характеристики количественных и бинарных признаков, а именно:\n",
    "### среднее значение, стандартное отклонение, медиана, значения квартилей, минимальаные и максимальные значения.   Наблюдаются также пропущенные значения"
   ]
  },
  {
   "cell_type": "code",
   "execution_count": 116,
   "id": "0dec28f6",
   "metadata": {},
   "outputs": [
    {
     "data": {
      "text/html": [
       "<div>\n",
       "<style scoped>\n",
       "    .dataframe tbody tr th:only-of-type {\n",
       "        vertical-align: middle;\n",
       "    }\n",
       "\n",
       "    .dataframe tbody tr th {\n",
       "        vertical-align: top;\n",
       "    }\n",
       "\n",
       "    .dataframe thead th {\n",
       "        text-align: right;\n",
       "    }\n",
       "</style>\n",
       "<table border=\"1\" class=\"dataframe\">\n",
       "  <thead>\n",
       "    <tr style=\"text-align: right;\">\n",
       "      <th></th>\n",
       "      <th>id</th>\n",
       "      <th>age</th>\n",
       "      <th>education</th>\n",
       "      <th>cigsPerDay</th>\n",
       "      <th>BPMeds</th>\n",
       "      <th>prevalentStroke</th>\n",
       "      <th>prevalentHyp</th>\n",
       "      <th>diabetes</th>\n",
       "      <th>totChol</th>\n",
       "      <th>sysBP</th>\n",
       "      <th>diaBP</th>\n",
       "      <th>BMI</th>\n",
       "      <th>heartRate</th>\n",
       "      <th>glucose</th>\n",
       "      <th>TenYearCHD</th>\n",
       "    </tr>\n",
       "  </thead>\n",
       "  <tbody>\n",
       "    <tr>\n",
       "      <th>count</th>\n",
       "      <td>3390.000000</td>\n",
       "      <td>3390.000000</td>\n",
       "      <td>3303.000000</td>\n",
       "      <td>3368.000000</td>\n",
       "      <td>3346.000000</td>\n",
       "      <td>3390.000000</td>\n",
       "      <td>3390.000000</td>\n",
       "      <td>3390.000000</td>\n",
       "      <td>3352.000000</td>\n",
       "      <td>3390.00000</td>\n",
       "      <td>3390.000000</td>\n",
       "      <td>3376.000000</td>\n",
       "      <td>3389.000000</td>\n",
       "      <td>3086.000000</td>\n",
       "      <td>3390.000000</td>\n",
       "    </tr>\n",
       "    <tr>\n",
       "      <th>mean</th>\n",
       "      <td>1694.500000</td>\n",
       "      <td>49.542183</td>\n",
       "      <td>1.970936</td>\n",
       "      <td>9.069477</td>\n",
       "      <td>0.029886</td>\n",
       "      <td>0.006490</td>\n",
       "      <td>0.315339</td>\n",
       "      <td>0.025664</td>\n",
       "      <td>237.074284</td>\n",
       "      <td>132.60118</td>\n",
       "      <td>82.883038</td>\n",
       "      <td>25.794964</td>\n",
       "      <td>75.977279</td>\n",
       "      <td>82.086520</td>\n",
       "      <td>0.150737</td>\n",
       "    </tr>\n",
       "    <tr>\n",
       "      <th>std</th>\n",
       "      <td>978.753033</td>\n",
       "      <td>8.592878</td>\n",
       "      <td>1.019081</td>\n",
       "      <td>11.879078</td>\n",
       "      <td>0.170299</td>\n",
       "      <td>0.080309</td>\n",
       "      <td>0.464719</td>\n",
       "      <td>0.158153</td>\n",
       "      <td>45.247430</td>\n",
       "      <td>22.29203</td>\n",
       "      <td>12.023581</td>\n",
       "      <td>4.115449</td>\n",
       "      <td>11.971868</td>\n",
       "      <td>24.244753</td>\n",
       "      <td>0.357846</td>\n",
       "    </tr>\n",
       "    <tr>\n",
       "      <th>min</th>\n",
       "      <td>0.000000</td>\n",
       "      <td>32.000000</td>\n",
       "      <td>1.000000</td>\n",
       "      <td>0.000000</td>\n",
       "      <td>0.000000</td>\n",
       "      <td>0.000000</td>\n",
       "      <td>0.000000</td>\n",
       "      <td>0.000000</td>\n",
       "      <td>107.000000</td>\n",
       "      <td>83.50000</td>\n",
       "      <td>48.000000</td>\n",
       "      <td>15.960000</td>\n",
       "      <td>45.000000</td>\n",
       "      <td>40.000000</td>\n",
       "      <td>0.000000</td>\n",
       "    </tr>\n",
       "    <tr>\n",
       "      <th>25%</th>\n",
       "      <td>847.250000</td>\n",
       "      <td>42.000000</td>\n",
       "      <td>1.000000</td>\n",
       "      <td>0.000000</td>\n",
       "      <td>0.000000</td>\n",
       "      <td>0.000000</td>\n",
       "      <td>0.000000</td>\n",
       "      <td>0.000000</td>\n",
       "      <td>206.000000</td>\n",
       "      <td>117.00000</td>\n",
       "      <td>74.500000</td>\n",
       "      <td>23.020000</td>\n",
       "      <td>68.000000</td>\n",
       "      <td>71.000000</td>\n",
       "      <td>0.000000</td>\n",
       "    </tr>\n",
       "    <tr>\n",
       "      <th>50%</th>\n",
       "      <td>1694.500000</td>\n",
       "      <td>49.000000</td>\n",
       "      <td>2.000000</td>\n",
       "      <td>0.000000</td>\n",
       "      <td>0.000000</td>\n",
       "      <td>0.000000</td>\n",
       "      <td>0.000000</td>\n",
       "      <td>0.000000</td>\n",
       "      <td>234.000000</td>\n",
       "      <td>128.50000</td>\n",
       "      <td>82.000000</td>\n",
       "      <td>25.380000</td>\n",
       "      <td>75.000000</td>\n",
       "      <td>78.000000</td>\n",
       "      <td>0.000000</td>\n",
       "    </tr>\n",
       "    <tr>\n",
       "      <th>75%</th>\n",
       "      <td>2541.750000</td>\n",
       "      <td>56.000000</td>\n",
       "      <td>3.000000</td>\n",
       "      <td>20.000000</td>\n",
       "      <td>0.000000</td>\n",
       "      <td>0.000000</td>\n",
       "      <td>1.000000</td>\n",
       "      <td>0.000000</td>\n",
       "      <td>264.000000</td>\n",
       "      <td>144.00000</td>\n",
       "      <td>90.000000</td>\n",
       "      <td>28.040000</td>\n",
       "      <td>83.000000</td>\n",
       "      <td>87.000000</td>\n",
       "      <td>0.000000</td>\n",
       "    </tr>\n",
       "    <tr>\n",
       "      <th>max</th>\n",
       "      <td>3389.000000</td>\n",
       "      <td>70.000000</td>\n",
       "      <td>4.000000</td>\n",
       "      <td>70.000000</td>\n",
       "      <td>1.000000</td>\n",
       "      <td>1.000000</td>\n",
       "      <td>1.000000</td>\n",
       "      <td>1.000000</td>\n",
       "      <td>696.000000</td>\n",
       "      <td>295.00000</td>\n",
       "      <td>142.500000</td>\n",
       "      <td>56.800000</td>\n",
       "      <td>143.000000</td>\n",
       "      <td>394.000000</td>\n",
       "      <td>1.000000</td>\n",
       "    </tr>\n",
       "  </tbody>\n",
       "</table>\n",
       "</div>"
      ],
      "text/plain": [
       "                id          age    education   cigsPerDay       BPMeds  \\\n",
       "count  3390.000000  3390.000000  3303.000000  3368.000000  3346.000000   \n",
       "mean   1694.500000    49.542183     1.970936     9.069477     0.029886   \n",
       "std     978.753033     8.592878     1.019081    11.879078     0.170299   \n",
       "min       0.000000    32.000000     1.000000     0.000000     0.000000   \n",
       "25%     847.250000    42.000000     1.000000     0.000000     0.000000   \n",
       "50%    1694.500000    49.000000     2.000000     0.000000     0.000000   \n",
       "75%    2541.750000    56.000000     3.000000    20.000000     0.000000   \n",
       "max    3389.000000    70.000000     4.000000    70.000000     1.000000   \n",
       "\n",
       "       prevalentStroke  prevalentHyp     diabetes      totChol       sysBP  \\\n",
       "count      3390.000000   3390.000000  3390.000000  3352.000000  3390.00000   \n",
       "mean          0.006490      0.315339     0.025664   237.074284   132.60118   \n",
       "std           0.080309      0.464719     0.158153    45.247430    22.29203   \n",
       "min           0.000000      0.000000     0.000000   107.000000    83.50000   \n",
       "25%           0.000000      0.000000     0.000000   206.000000   117.00000   \n",
       "50%           0.000000      0.000000     0.000000   234.000000   128.50000   \n",
       "75%           0.000000      1.000000     0.000000   264.000000   144.00000   \n",
       "max           1.000000      1.000000     1.000000   696.000000   295.00000   \n",
       "\n",
       "             diaBP          BMI    heartRate      glucose   TenYearCHD  \n",
       "count  3390.000000  3376.000000  3389.000000  3086.000000  3390.000000  \n",
       "mean     82.883038    25.794964    75.977279    82.086520     0.150737  \n",
       "std      12.023581     4.115449    11.971868    24.244753     0.357846  \n",
       "min      48.000000    15.960000    45.000000    40.000000     0.000000  \n",
       "25%      74.500000    23.020000    68.000000    71.000000     0.000000  \n",
       "50%      82.000000    25.380000    75.000000    78.000000     0.000000  \n",
       "75%      90.000000    28.040000    83.000000    87.000000     0.000000  \n",
       "max     142.500000    56.800000   143.000000   394.000000     1.000000  "
      ]
     },
     "execution_count": 116,
     "metadata": {},
     "output_type": "execute_result"
    }
   ],
   "source": [
    "X.describe()"
   ]
  },
  {
   "cell_type": "code",
   "execution_count": 117,
   "id": "c36fc508",
   "metadata": {},
   "outputs": [],
   "source": [
    "X['sex'] = X['sex'].astype('category')\n",
    "X['is_smoking'] = X['is_smoking'].astype('category')"
   ]
  },
  {
   "cell_type": "code",
   "execution_count": 118,
   "id": "ebf5fd44",
   "metadata": {},
   "outputs": [
    {
     "data": {
      "text/html": [
       "<div>\n",
       "<style scoped>\n",
       "    .dataframe tbody tr th:only-of-type {\n",
       "        vertical-align: middle;\n",
       "    }\n",
       "\n",
       "    .dataframe tbody tr th {\n",
       "        vertical-align: top;\n",
       "    }\n",
       "\n",
       "    .dataframe thead th {\n",
       "        text-align: right;\n",
       "    }\n",
       "</style>\n",
       "<table border=\"1\" class=\"dataframe\">\n",
       "  <thead>\n",
       "    <tr style=\"text-align: right;\">\n",
       "      <th></th>\n",
       "      <th>sex</th>\n",
       "      <th>is_smoking</th>\n",
       "    </tr>\n",
       "  </thead>\n",
       "  <tbody>\n",
       "    <tr>\n",
       "      <th>count</th>\n",
       "      <td>3390</td>\n",
       "      <td>3390</td>\n",
       "    </tr>\n",
       "    <tr>\n",
       "      <th>unique</th>\n",
       "      <td>2</td>\n",
       "      <td>2</td>\n",
       "    </tr>\n",
       "    <tr>\n",
       "      <th>top</th>\n",
       "      <td>F</td>\n",
       "      <td>NO</td>\n",
       "    </tr>\n",
       "    <tr>\n",
       "      <th>freq</th>\n",
       "      <td>1923</td>\n",
       "      <td>1703</td>\n",
       "    </tr>\n",
       "  </tbody>\n",
       "</table>\n",
       "</div>"
      ],
      "text/plain": [
       "         sex is_smoking\n",
       "count   3390       3390\n",
       "unique     2          2\n",
       "top        F         NO\n",
       "freq    1923       1703"
      ]
     },
     "execution_count": 118,
     "metadata": {},
     "output_type": "execute_result"
    }
   ],
   "source": [
    "X.describe(include=['category'])"
   ]
  },
  {
   "cell_type": "code",
   "execution_count": 119,
   "id": "03c60ed7",
   "metadata": {},
   "outputs": [
    {
     "data": {
      "text/plain": [
       "F    1923\n",
       "M    1467\n",
       "Name: sex, dtype: int64"
      ]
     },
     "execution_count": 119,
     "metadata": {},
     "output_type": "execute_result"
    }
   ],
   "source": [
    "X['sex'].value_counts()"
   ]
  },
  {
   "cell_type": "markdown",
   "id": "6517f52f",
   "metadata": {},
   "source": [
    "###  По количеству число женщин не особо больше числа мужчин"
   ]
  },
  {
   "cell_type": "code",
   "execution_count": 120,
   "id": "5609c97f",
   "metadata": {},
   "outputs": [
    {
     "data": {
      "text/plain": [
       "NO     1703\n",
       "YES    1687\n",
       "Name: is_smoking, dtype: int64"
      ]
     },
     "execution_count": 120,
     "metadata": {},
     "output_type": "execute_result"
    }
   ],
   "source": [
    "X['is_smoking'].value_counts()"
   ]
  },
  {
   "cell_type": "markdown",
   "id": "e73baea6",
   "metadata": {},
   "source": [
    "### Среди пациентов можем пронаблюдать, что число  курящих/не курящих поровну"
   ]
  },
  {
   "cell_type": "markdown",
   "id": "88b780ad",
   "metadata": {},
   "source": [
    "## Построение корреляционной матрицы"
   ]
  },
  {
   "cell_type": "code",
   "execution_count": 121,
   "id": "b6005730",
   "metadata": {},
   "outputs": [
    {
     "data": {
      "text/html": [
       "<div>\n",
       "<style scoped>\n",
       "    .dataframe tbody tr th:only-of-type {\n",
       "        vertical-align: middle;\n",
       "    }\n",
       "\n",
       "    .dataframe tbody tr th {\n",
       "        vertical-align: top;\n",
       "    }\n",
       "\n",
       "    .dataframe thead th {\n",
       "        text-align: right;\n",
       "    }\n",
       "</style>\n",
       "<table border=\"1\" class=\"dataframe\">\n",
       "  <thead>\n",
       "    <tr style=\"text-align: right;\">\n",
       "      <th></th>\n",
       "      <th>id</th>\n",
       "      <th>age</th>\n",
       "      <th>education</th>\n",
       "      <th>cigsPerDay</th>\n",
       "      <th>BPMeds</th>\n",
       "      <th>prevalentStroke</th>\n",
       "      <th>prevalentHyp</th>\n",
       "      <th>diabetes</th>\n",
       "      <th>totChol</th>\n",
       "      <th>sysBP</th>\n",
       "      <th>diaBP</th>\n",
       "      <th>BMI</th>\n",
       "      <th>heartRate</th>\n",
       "      <th>glucose</th>\n",
       "      <th>TenYearCHD</th>\n",
       "    </tr>\n",
       "  </thead>\n",
       "  <tbody>\n",
       "    <tr>\n",
       "      <th>id</th>\n",
       "      <td>1.000000</td>\n",
       "      <td>0.016759</td>\n",
       "      <td>-0.030573</td>\n",
       "      <td>-0.017249</td>\n",
       "      <td>0.007080</td>\n",
       "      <td>-0.038873</td>\n",
       "      <td>0.013236</td>\n",
       "      <td>0.003690</td>\n",
       "      <td>-0.019889</td>\n",
       "      <td>0.019676</td>\n",
       "      <td>0.000832</td>\n",
       "      <td>0.039849</td>\n",
       "      <td>0.024684</td>\n",
       "      <td>0.015517</td>\n",
       "      <td>0.009866</td>\n",
       "    </tr>\n",
       "    <tr>\n",
       "      <th>age</th>\n",
       "      <td>0.016759</td>\n",
       "      <td>1.000000</td>\n",
       "      <td>-0.172559</td>\n",
       "      <td>-0.192335</td>\n",
       "      <td>0.124376</td>\n",
       "      <td>0.059038</td>\n",
       "      <td>0.308826</td>\n",
       "      <td>0.107875</td>\n",
       "      <td>0.274028</td>\n",
       "      <td>0.404845</td>\n",
       "      <td>0.221896</td>\n",
       "      <td>0.138176</td>\n",
       "      <td>-0.002596</td>\n",
       "      <td>0.116135</td>\n",
       "      <td>0.224927</td>\n",
       "    </tr>\n",
       "    <tr>\n",
       "      <th>education</th>\n",
       "      <td>-0.030573</td>\n",
       "      <td>-0.172559</td>\n",
       "      <td>1.000000</td>\n",
       "      <td>0.011126</td>\n",
       "      <td>-0.019920</td>\n",
       "      <td>-0.034194</td>\n",
       "      <td>-0.084817</td>\n",
       "      <td>-0.052013</td>\n",
       "      <td>-0.020781</td>\n",
       "      <td>-0.137195</td>\n",
       "      <td>-0.060801</td>\n",
       "      <td>-0.133313</td>\n",
       "      <td>-0.046980</td>\n",
       "      <td>-0.038732</td>\n",
       "      <td>-0.052751</td>\n",
       "    </tr>\n",
       "    <tr>\n",
       "      <th>cigsPerDay</th>\n",
       "      <td>-0.017249</td>\n",
       "      <td>-0.192335</td>\n",
       "      <td>0.011126</td>\n",
       "      <td>1.000000</td>\n",
       "      <td>-0.037080</td>\n",
       "      <td>-0.042057</td>\n",
       "      <td>-0.079312</td>\n",
       "      <td>-0.049016</td>\n",
       "      <td>-0.024703</td>\n",
       "      <td>-0.100834</td>\n",
       "      <td>-0.068785</td>\n",
       "      <td>-0.100996</td>\n",
       "      <td>0.066759</td>\n",
       "      <td>-0.068797</td>\n",
       "      <td>0.066778</td>\n",
       "    </tr>\n",
       "    <tr>\n",
       "      <th>BPMeds</th>\n",
       "      <td>0.007080</td>\n",
       "      <td>0.124376</td>\n",
       "      <td>-0.019920</td>\n",
       "      <td>-0.037080</td>\n",
       "      <td>1.000000</td>\n",
       "      <td>0.119402</td>\n",
       "      <td>0.259548</td>\n",
       "      <td>0.071316</td>\n",
       "      <td>0.083299</td>\n",
       "      <td>0.263729</td>\n",
       "      <td>0.201217</td>\n",
       "      <td>0.087932</td>\n",
       "      <td>0.018107</td>\n",
       "      <td>0.064490</td>\n",
       "      <td>0.088020</td>\n",
       "    </tr>\n",
       "    <tr>\n",
       "      <th>prevalentStroke</th>\n",
       "      <td>-0.038873</td>\n",
       "      <td>0.059038</td>\n",
       "      <td>-0.034194</td>\n",
       "      <td>-0.042057</td>\n",
       "      <td>0.119402</td>\n",
       "      <td>1.000000</td>\n",
       "      <td>0.071652</td>\n",
       "      <td>0.010115</td>\n",
       "      <td>-0.010832</td>\n",
       "      <td>0.057568</td>\n",
       "      <td>0.047235</td>\n",
       "      <td>0.018602</td>\n",
       "      <td>-0.019184</td>\n",
       "      <td>0.023607</td>\n",
       "      <td>0.068627</td>\n",
       "    </tr>\n",
       "    <tr>\n",
       "      <th>prevalentHyp</th>\n",
       "      <td>0.013236</td>\n",
       "      <td>0.308826</td>\n",
       "      <td>-0.084817</td>\n",
       "      <td>-0.079312</td>\n",
       "      <td>0.259548</td>\n",
       "      <td>0.071652</td>\n",
       "      <td>1.000000</td>\n",
       "      <td>0.082565</td>\n",
       "      <td>0.159680</td>\n",
       "      <td>0.699285</td>\n",
       "      <td>0.612897</td>\n",
       "      <td>0.300464</td>\n",
       "      <td>0.150815</td>\n",
       "      <td>0.086658</td>\n",
       "      <td>0.166544</td>\n",
       "    </tr>\n",
       "    <tr>\n",
       "      <th>diabetes</th>\n",
       "      <td>0.003690</td>\n",
       "      <td>0.107875</td>\n",
       "      <td>-0.052013</td>\n",
       "      <td>-0.049016</td>\n",
       "      <td>0.071316</td>\n",
       "      <td>0.010115</td>\n",
       "      <td>0.082565</td>\n",
       "      <td>1.000000</td>\n",
       "      <td>0.059080</td>\n",
       "      <td>0.124011</td>\n",
       "      <td>0.061165</td>\n",
       "      <td>0.089112</td>\n",
       "      <td>0.039742</td>\n",
       "      <td>0.620211</td>\n",
       "      <td>0.103681</td>\n",
       "    </tr>\n",
       "    <tr>\n",
       "      <th>totChol</th>\n",
       "      <td>-0.019889</td>\n",
       "      <td>0.274028</td>\n",
       "      <td>-0.020781</td>\n",
       "      <td>-0.024703</td>\n",
       "      <td>0.083299</td>\n",
       "      <td>-0.010832</td>\n",
       "      <td>0.159680</td>\n",
       "      <td>0.059080</td>\n",
       "      <td>1.000000</td>\n",
       "      <td>0.199159</td>\n",
       "      <td>0.154974</td>\n",
       "      <td>0.114305</td>\n",
       "      <td>0.087458</td>\n",
       "      <td>0.062723</td>\n",
       "      <td>0.094306</td>\n",
       "    </tr>\n",
       "    <tr>\n",
       "      <th>sysBP</th>\n",
       "      <td>0.019676</td>\n",
       "      <td>0.404845</td>\n",
       "      <td>-0.137195</td>\n",
       "      <td>-0.100834</td>\n",
       "      <td>0.263729</td>\n",
       "      <td>0.057568</td>\n",
       "      <td>0.699285</td>\n",
       "      <td>0.124011</td>\n",
       "      <td>0.199159</td>\n",
       "      <td>1.000000</td>\n",
       "      <td>0.781908</td>\n",
       "      <td>0.333864</td>\n",
       "      <td>0.178262</td>\n",
       "      <td>0.143090</td>\n",
       "      <td>0.212703</td>\n",
       "    </tr>\n",
       "    <tr>\n",
       "      <th>diaBP</th>\n",
       "      <td>0.000832</td>\n",
       "      <td>0.221896</td>\n",
       "      <td>-0.060801</td>\n",
       "      <td>-0.068785</td>\n",
       "      <td>0.201217</td>\n",
       "      <td>0.047235</td>\n",
       "      <td>0.612897</td>\n",
       "      <td>0.061165</td>\n",
       "      <td>0.154974</td>\n",
       "      <td>0.781908</td>\n",
       "      <td>1.000000</td>\n",
       "      <td>0.380498</td>\n",
       "      <td>0.174904</td>\n",
       "      <td>0.071499</td>\n",
       "      <td>0.135979</td>\n",
       "    </tr>\n",
       "    <tr>\n",
       "      <th>BMI</th>\n",
       "      <td>0.039849</td>\n",
       "      <td>0.138176</td>\n",
       "      <td>-0.133313</td>\n",
       "      <td>-0.100996</td>\n",
       "      <td>0.087932</td>\n",
       "      <td>0.018602</td>\n",
       "      <td>0.300464</td>\n",
       "      <td>0.089112</td>\n",
       "      <td>0.114305</td>\n",
       "      <td>0.333864</td>\n",
       "      <td>0.380498</td>\n",
       "      <td>1.000000</td>\n",
       "      <td>0.069655</td>\n",
       "      <td>0.093454</td>\n",
       "      <td>0.066947</td>\n",
       "    </tr>\n",
       "    <tr>\n",
       "      <th>heartRate</th>\n",
       "      <td>0.024684</td>\n",
       "      <td>-0.002596</td>\n",
       "      <td>-0.046980</td>\n",
       "      <td>0.066759</td>\n",
       "      <td>0.018107</td>\n",
       "      <td>-0.019184</td>\n",
       "      <td>0.150815</td>\n",
       "      <td>0.039742</td>\n",
       "      <td>0.087458</td>\n",
       "      <td>0.178262</td>\n",
       "      <td>0.174904</td>\n",
       "      <td>0.069655</td>\n",
       "      <td>1.000000</td>\n",
       "      <td>0.088334</td>\n",
       "      <td>0.020241</td>\n",
       "    </tr>\n",
       "    <tr>\n",
       "      <th>glucose</th>\n",
       "      <td>0.015517</td>\n",
       "      <td>0.116135</td>\n",
       "      <td>-0.038732</td>\n",
       "      <td>-0.068797</td>\n",
       "      <td>0.064490</td>\n",
       "      <td>0.023607</td>\n",
       "      <td>0.086658</td>\n",
       "      <td>0.620211</td>\n",
       "      <td>0.062723</td>\n",
       "      <td>0.143090</td>\n",
       "      <td>0.071499</td>\n",
       "      <td>0.093454</td>\n",
       "      <td>0.088334</td>\n",
       "      <td>1.000000</td>\n",
       "      <td>0.138200</td>\n",
       "    </tr>\n",
       "    <tr>\n",
       "      <th>TenYearCHD</th>\n",
       "      <td>0.009866</td>\n",
       "      <td>0.224927</td>\n",
       "      <td>-0.052751</td>\n",
       "      <td>0.066778</td>\n",
       "      <td>0.088020</td>\n",
       "      <td>0.068627</td>\n",
       "      <td>0.166544</td>\n",
       "      <td>0.103681</td>\n",
       "      <td>0.094306</td>\n",
       "      <td>0.212703</td>\n",
       "      <td>0.135979</td>\n",
       "      <td>0.066947</td>\n",
       "      <td>0.020241</td>\n",
       "      <td>0.138200</td>\n",
       "      <td>1.000000</td>\n",
       "    </tr>\n",
       "  </tbody>\n",
       "</table>\n",
       "</div>"
      ],
      "text/plain": [
       "                       id       age  education  cigsPerDay    BPMeds  \\\n",
       "id               1.000000  0.016759  -0.030573   -0.017249  0.007080   \n",
       "age              0.016759  1.000000  -0.172559   -0.192335  0.124376   \n",
       "education       -0.030573 -0.172559   1.000000    0.011126 -0.019920   \n",
       "cigsPerDay      -0.017249 -0.192335   0.011126    1.000000 -0.037080   \n",
       "BPMeds           0.007080  0.124376  -0.019920   -0.037080  1.000000   \n",
       "prevalentStroke -0.038873  0.059038  -0.034194   -0.042057  0.119402   \n",
       "prevalentHyp     0.013236  0.308826  -0.084817   -0.079312  0.259548   \n",
       "diabetes         0.003690  0.107875  -0.052013   -0.049016  0.071316   \n",
       "totChol         -0.019889  0.274028  -0.020781   -0.024703  0.083299   \n",
       "sysBP            0.019676  0.404845  -0.137195   -0.100834  0.263729   \n",
       "diaBP            0.000832  0.221896  -0.060801   -0.068785  0.201217   \n",
       "BMI              0.039849  0.138176  -0.133313   -0.100996  0.087932   \n",
       "heartRate        0.024684 -0.002596  -0.046980    0.066759  0.018107   \n",
       "glucose          0.015517  0.116135  -0.038732   -0.068797  0.064490   \n",
       "TenYearCHD       0.009866  0.224927  -0.052751    0.066778  0.088020   \n",
       "\n",
       "                 prevalentStroke  prevalentHyp  diabetes   totChol     sysBP  \\\n",
       "id                     -0.038873      0.013236  0.003690 -0.019889  0.019676   \n",
       "age                     0.059038      0.308826  0.107875  0.274028  0.404845   \n",
       "education              -0.034194     -0.084817 -0.052013 -0.020781 -0.137195   \n",
       "cigsPerDay             -0.042057     -0.079312 -0.049016 -0.024703 -0.100834   \n",
       "BPMeds                  0.119402      0.259548  0.071316  0.083299  0.263729   \n",
       "prevalentStroke         1.000000      0.071652  0.010115 -0.010832  0.057568   \n",
       "prevalentHyp            0.071652      1.000000  0.082565  0.159680  0.699285   \n",
       "diabetes                0.010115      0.082565  1.000000  0.059080  0.124011   \n",
       "totChol                -0.010832      0.159680  0.059080  1.000000  0.199159   \n",
       "sysBP                   0.057568      0.699285  0.124011  0.199159  1.000000   \n",
       "diaBP                   0.047235      0.612897  0.061165  0.154974  0.781908   \n",
       "BMI                     0.018602      0.300464  0.089112  0.114305  0.333864   \n",
       "heartRate              -0.019184      0.150815  0.039742  0.087458  0.178262   \n",
       "glucose                 0.023607      0.086658  0.620211  0.062723  0.143090   \n",
       "TenYearCHD              0.068627      0.166544  0.103681  0.094306  0.212703   \n",
       "\n",
       "                    diaBP       BMI  heartRate   glucose  TenYearCHD  \n",
       "id               0.000832  0.039849   0.024684  0.015517    0.009866  \n",
       "age              0.221896  0.138176  -0.002596  0.116135    0.224927  \n",
       "education       -0.060801 -0.133313  -0.046980 -0.038732   -0.052751  \n",
       "cigsPerDay      -0.068785 -0.100996   0.066759 -0.068797    0.066778  \n",
       "BPMeds           0.201217  0.087932   0.018107  0.064490    0.088020  \n",
       "prevalentStroke  0.047235  0.018602  -0.019184  0.023607    0.068627  \n",
       "prevalentHyp     0.612897  0.300464   0.150815  0.086658    0.166544  \n",
       "diabetes         0.061165  0.089112   0.039742  0.620211    0.103681  \n",
       "totChol          0.154974  0.114305   0.087458  0.062723    0.094306  \n",
       "sysBP            0.781908  0.333864   0.178262  0.143090    0.212703  \n",
       "diaBP            1.000000  0.380498   0.174904  0.071499    0.135979  \n",
       "BMI              0.380498  1.000000   0.069655  0.093454    0.066947  \n",
       "heartRate        0.174904  0.069655   1.000000  0.088334    0.020241  \n",
       "glucose          0.071499  0.093454   0.088334  1.000000    0.138200  \n",
       "TenYearCHD       0.135979  0.066947   0.020241  0.138200    1.000000  "
      ]
     },
     "execution_count": 121,
     "metadata": {},
     "output_type": "execute_result"
    }
   ],
   "source": [
    "corr_mat = X.corr()\n",
    "corr_mat"
   ]
  },
  {
   "cell_type": "code",
   "execution_count": 122,
   "id": "0b3563e9",
   "metadata": {},
   "outputs": [
    {
     "data": {
      "text/plain": [
       "<AxesSubplot:>"
      ]
     },
     "execution_count": 122,
     "metadata": {},
     "output_type": "execute_result"
    },
    {
     "data": {
      "image/png": "[encoded data removed]",
      "text/plain": [
       "<Figure size 432x288 with 2 Axes>"
      ]
     },
     "metadata": {
      "needs_background": "light"
     },
     "output_type": "display_data"
    }
   ],
   "source": [
    "sns.heatmap(corr_mat, square=True, vmin=-1, vmax=1, cmap='coolwarm')"
   ]
  },
  {
   "cell_type": "code",
   "execution_count": 123,
   "id": "692d80bc",
   "metadata": {},
   "outputs": [
    {
     "data": {
      "image/png": "[encoded data removed]",
      "text/plain": [
       "<Figure size 432x288 with 1 Axes>"
      ]
     },
     "metadata": {
      "needs_background": "light"
     },
     "output_type": "display_data"
    }
   ],
   "source": [
    "plt.scatter(X['diaBP'], X['sysBP'], alpha=0.05)\n",
    "plt.xlabel('diaBP')\n",
    "plt.ylabel('sysBP')\n",
    "pass"
   ]
  },
  {
   "cell_type": "markdown",
   "id": "5e81c7bb",
   "metadata": {},
   "source": [
    "### Между количественным признаком  'diaBP' и 'sysBP' наблюдается линейная  зависимость. Коэффициент корреляции = 0.781908"
   ]
  },
  {
   "cell_type": "markdown",
   "id": "43c8828d",
   "metadata": {},
   "source": [
    "# 3-Обработка пропущенных значений"
   ]
  },
  {
   "cell_type": "code",
   "execution_count": 124,
   "id": "5d463f72",
   "metadata": {},
   "outputs": [
    {
     "data": {
      "text/plain": [
       "id                   0\n",
       "age                  0\n",
       "education           87\n",
       "sex                  0\n",
       "is_smoking           0\n",
       "cigsPerDay          22\n",
       "BPMeds              44\n",
       "prevalentStroke      0\n",
       "prevalentHyp         0\n",
       "diabetes             0\n",
       "totChol             38\n",
       "sysBP                0\n",
       "diaBP                0\n",
       "BMI                 14\n",
       "heartRate            1\n",
       "glucose            304\n",
       "TenYearCHD           0\n",
       "dtype: int64"
      ]
     },
     "execution_count": 124,
     "metadata": {},
     "output_type": "execute_result"
    }
   ],
   "source": [
    "X.isna().sum()"
   ]
  },
  {
   "cell_type": "markdown",
   "id": "dc1515ce",
   "metadata": {},
   "source": [
    "Заполним пропущенные значения средним или медианой (для количественных признаков) или модой (для номинальных признаков).\n",
    "\n",
    "Приступим с обработки количественных признаков"
   ]
  },
  {
   "cell_type": "code",
   "execution_count": 125,
   "id": "b71ad866",
   "metadata": {},
   "outputs": [],
   "source": [
    "X.fillna(X.median(axis = 0), axis=0 , inplace=True)"
   ]
  },
  {
   "cell_type": "code",
   "execution_count": 126,
   "id": "9630ac8f",
   "metadata": {},
   "outputs": [
    {
     "data": {
      "text/plain": [
       "id                 0\n",
       "age                0\n",
       "education          0\n",
       "sex                0\n",
       "is_smoking         0\n",
       "cigsPerDay         0\n",
       "BPMeds             0\n",
       "prevalentStroke    0\n",
       "prevalentHyp       0\n",
       "diabetes           0\n",
       "totChol            0\n",
       "sysBP              0\n",
       "diaBP              0\n",
       "BMI                0\n",
       "heartRate          0\n",
       "glucose            0\n",
       "TenYearCHD         0\n",
       "dtype: int64"
      ]
     },
     "execution_count": 126,
     "metadata": {},
     "output_type": "execute_result"
    }
   ],
   "source": [
    "X.isna().sum()"
   ]
  },
  {
   "cell_type": "markdown",
   "id": "0918159d",
   "metadata": {},
   "source": [
    "## Избавление от пропущенных значений завершено"
   ]
  },
  {
   "cell_type": "code",
   "execution_count": 127,
   "id": "31e4813e",
   "metadata": {},
   "outputs": [
    {
     "data": {
      "text/html": [
       "<div>\n",
       "<style scoped>\n",
       "    .dataframe tbody tr th:only-of-type {\n",
       "        vertical-align: middle;\n",
       "    }\n",
       "\n",
       "    .dataframe tbody tr th {\n",
       "        vertical-align: top;\n",
       "    }\n",
       "\n",
       "    .dataframe thead th {\n",
       "        text-align: right;\n",
       "    }\n",
       "</style>\n",
       "<table border=\"1\" class=\"dataframe\">\n",
       "  <thead>\n",
       "    <tr style=\"text-align: right;\">\n",
       "      <th></th>\n",
       "      <th>id</th>\n",
       "      <th>age</th>\n",
       "      <th>education</th>\n",
       "      <th>sex</th>\n",
       "      <th>is_smoking</th>\n",
       "      <th>cigsPerDay</th>\n",
       "      <th>BPMeds</th>\n",
       "      <th>prevalentStroke</th>\n",
       "      <th>prevalentHyp</th>\n",
       "      <th>diabetes</th>\n",
       "      <th>totChol</th>\n",
       "      <th>sysBP</th>\n",
       "      <th>diaBP</th>\n",
       "      <th>BMI</th>\n",
       "      <th>heartRate</th>\n",
       "      <th>glucose</th>\n",
       "      <th>TenYearCHD</th>\n",
       "    </tr>\n",
       "  </thead>\n",
       "  <tbody>\n",
       "    <tr>\n",
       "      <th>0</th>\n",
       "      <td>0</td>\n",
       "      <td>64</td>\n",
       "      <td>2.0</td>\n",
       "      <td>F</td>\n",
       "      <td>YES</td>\n",
       "      <td>3.0</td>\n",
       "      <td>0.0</td>\n",
       "      <td>0</td>\n",
       "      <td>0</td>\n",
       "      <td>0</td>\n",
       "      <td>221.0</td>\n",
       "      <td>148.0</td>\n",
       "      <td>85.0</td>\n",
       "      <td>25.38</td>\n",
       "      <td>90.0</td>\n",
       "      <td>80.0</td>\n",
       "      <td>1</td>\n",
       "    </tr>\n",
       "    <tr>\n",
       "      <th>1</th>\n",
       "      <td>1</td>\n",
       "      <td>36</td>\n",
       "      <td>4.0</td>\n",
       "      <td>M</td>\n",
       "      <td>NO</td>\n",
       "      <td>0.0</td>\n",
       "      <td>0.0</td>\n",
       "      <td>0</td>\n",
       "      <td>1</td>\n",
       "      <td>0</td>\n",
       "      <td>212.0</td>\n",
       "      <td>168.0</td>\n",
       "      <td>98.0</td>\n",
       "      <td>29.77</td>\n",
       "      <td>72.0</td>\n",
       "      <td>75.0</td>\n",
       "      <td>0</td>\n",
       "    </tr>\n",
       "    <tr>\n",
       "      <th>2</th>\n",
       "      <td>2</td>\n",
       "      <td>46</td>\n",
       "      <td>1.0</td>\n",
       "      <td>F</td>\n",
       "      <td>YES</td>\n",
       "      <td>10.0</td>\n",
       "      <td>0.0</td>\n",
       "      <td>0</td>\n",
       "      <td>0</td>\n",
       "      <td>0</td>\n",
       "      <td>250.0</td>\n",
       "      <td>116.0</td>\n",
       "      <td>71.0</td>\n",
       "      <td>20.35</td>\n",
       "      <td>88.0</td>\n",
       "      <td>94.0</td>\n",
       "      <td>0</td>\n",
       "    </tr>\n",
       "    <tr>\n",
       "      <th>3</th>\n",
       "      <td>3</td>\n",
       "      <td>50</td>\n",
       "      <td>1.0</td>\n",
       "      <td>M</td>\n",
       "      <td>YES</td>\n",
       "      <td>20.0</td>\n",
       "      <td>0.0</td>\n",
       "      <td>0</td>\n",
       "      <td>1</td>\n",
       "      <td>0</td>\n",
       "      <td>233.0</td>\n",
       "      <td>158.0</td>\n",
       "      <td>88.0</td>\n",
       "      <td>28.26</td>\n",
       "      <td>68.0</td>\n",
       "      <td>94.0</td>\n",
       "      <td>1</td>\n",
       "    </tr>\n",
       "    <tr>\n",
       "      <th>4</th>\n",
       "      <td>4</td>\n",
       "      <td>64</td>\n",
       "      <td>1.0</td>\n",
       "      <td>F</td>\n",
       "      <td>YES</td>\n",
       "      <td>30.0</td>\n",
       "      <td>0.0</td>\n",
       "      <td>0</td>\n",
       "      <td>0</td>\n",
       "      <td>0</td>\n",
       "      <td>241.0</td>\n",
       "      <td>136.5</td>\n",
       "      <td>85.0</td>\n",
       "      <td>26.42</td>\n",
       "      <td>70.0</td>\n",
       "      <td>77.0</td>\n",
       "      <td>0</td>\n",
       "    </tr>\n",
       "    <tr>\n",
       "      <th>...</th>\n",
       "      <td>...</td>\n",
       "      <td>...</td>\n",
       "      <td>...</td>\n",
       "      <td>...</td>\n",
       "      <td>...</td>\n",
       "      <td>...</td>\n",
       "      <td>...</td>\n",
       "      <td>...</td>\n",
       "      <td>...</td>\n",
       "      <td>...</td>\n",
       "      <td>...</td>\n",
       "      <td>...</td>\n",
       "      <td>...</td>\n",
       "      <td>...</td>\n",
       "      <td>...</td>\n",
       "      <td>...</td>\n",
       "      <td>...</td>\n",
       "    </tr>\n",
       "    <tr>\n",
       "      <th>3385</th>\n",
       "      <td>3385</td>\n",
       "      <td>60</td>\n",
       "      <td>1.0</td>\n",
       "      <td>F</td>\n",
       "      <td>NO</td>\n",
       "      <td>0.0</td>\n",
       "      <td>0.0</td>\n",
       "      <td>0</td>\n",
       "      <td>0</td>\n",
       "      <td>0</td>\n",
       "      <td>261.0</td>\n",
       "      <td>123.5</td>\n",
       "      <td>79.0</td>\n",
       "      <td>29.28</td>\n",
       "      <td>70.0</td>\n",
       "      <td>103.0</td>\n",
       "      <td>0</td>\n",
       "    </tr>\n",
       "    <tr>\n",
       "      <th>3386</th>\n",
       "      <td>3386</td>\n",
       "      <td>46</td>\n",
       "      <td>1.0</td>\n",
       "      <td>F</td>\n",
       "      <td>NO</td>\n",
       "      <td>0.0</td>\n",
       "      <td>0.0</td>\n",
       "      <td>0</td>\n",
       "      <td>0</td>\n",
       "      <td>0</td>\n",
       "      <td>199.0</td>\n",
       "      <td>102.0</td>\n",
       "      <td>56.0</td>\n",
       "      <td>21.96</td>\n",
       "      <td>80.0</td>\n",
       "      <td>84.0</td>\n",
       "      <td>0</td>\n",
       "    </tr>\n",
       "    <tr>\n",
       "      <th>3387</th>\n",
       "      <td>3387</td>\n",
       "      <td>44</td>\n",
       "      <td>3.0</td>\n",
       "      <td>M</td>\n",
       "      <td>YES</td>\n",
       "      <td>3.0</td>\n",
       "      <td>0.0</td>\n",
       "      <td>0</td>\n",
       "      <td>1</td>\n",
       "      <td>0</td>\n",
       "      <td>352.0</td>\n",
       "      <td>164.0</td>\n",
       "      <td>119.0</td>\n",
       "      <td>28.92</td>\n",
       "      <td>73.0</td>\n",
       "      <td>72.0</td>\n",
       "      <td>1</td>\n",
       "    </tr>\n",
       "    <tr>\n",
       "      <th>3388</th>\n",
       "      <td>3388</td>\n",
       "      <td>60</td>\n",
       "      <td>1.0</td>\n",
       "      <td>M</td>\n",
       "      <td>NO</td>\n",
       "      <td>0.0</td>\n",
       "      <td>0.0</td>\n",
       "      <td>0</td>\n",
       "      <td>1</td>\n",
       "      <td>0</td>\n",
       "      <td>191.0</td>\n",
       "      <td>167.0</td>\n",
       "      <td>105.0</td>\n",
       "      <td>23.01</td>\n",
       "      <td>80.0</td>\n",
       "      <td>85.0</td>\n",
       "      <td>0</td>\n",
       "    </tr>\n",
       "    <tr>\n",
       "      <th>3389</th>\n",
       "      <td>3389</td>\n",
       "      <td>54</td>\n",
       "      <td>3.0</td>\n",
       "      <td>F</td>\n",
       "      <td>NO</td>\n",
       "      <td>0.0</td>\n",
       "      <td>0.0</td>\n",
       "      <td>0</td>\n",
       "      <td>0</td>\n",
       "      <td>0</td>\n",
       "      <td>288.0</td>\n",
       "      <td>124.0</td>\n",
       "      <td>77.0</td>\n",
       "      <td>29.88</td>\n",
       "      <td>79.0</td>\n",
       "      <td>92.0</td>\n",
       "      <td>0</td>\n",
       "    </tr>\n",
       "  </tbody>\n",
       "</table>\n",
       "<p>3390 rows × 17 columns</p>\n",
       "</div>"
      ],
      "text/plain": [
       "        id  age  education sex is_smoking  cigsPerDay  BPMeds  \\\n",
       "0        0   64        2.0   F        YES         3.0     0.0   \n",
       "1        1   36        4.0   M         NO         0.0     0.0   \n",
       "2        2   46        1.0   F        YES        10.0     0.0   \n",
       "3        3   50        1.0   M        YES        20.0     0.0   \n",
       "4        4   64        1.0   F        YES        30.0     0.0   \n",
       "...    ...  ...        ...  ..        ...         ...     ...   \n",
       "3385  3385   60        1.0   F         NO         0.0     0.0   \n",
       "3386  3386   46        1.0   F         NO         0.0     0.0   \n",
       "3387  3387   44        3.0   M        YES         3.0     0.0   \n",
       "3388  3388   60        1.0   M         NO         0.0     0.0   \n",
       "3389  3389   54        3.0   F         NO         0.0     0.0   \n",
       "\n",
       "      prevalentStroke  prevalentHyp  diabetes  totChol  sysBP  diaBP    BMI  \\\n",
       "0                   0             0         0    221.0  148.0   85.0  25.38   \n",
       "1                   0             1         0    212.0  168.0   98.0  29.77   \n",
       "2                   0             0         0    250.0  116.0   71.0  20.35   \n",
       "3                   0             1         0    233.0  158.0   88.0  28.26   \n",
       "4                   0             0         0    241.0  136.5   85.0  26.42   \n",
       "...               ...           ...       ...      ...    ...    ...    ...   \n",
       "3385                0             0         0    261.0  123.5   79.0  29.28   \n",
       "3386                0             0         0    199.0  102.0   56.0  21.96   \n",
       "3387                0             1         0    352.0  164.0  119.0  28.92   \n",
       "3388                0             1         0    191.0  167.0  105.0  23.01   \n",
       "3389                0             0         0    288.0  124.0   77.0  29.88   \n",
       "\n",
       "      heartRate  glucose  TenYearCHD  \n",
       "0          90.0     80.0           1  \n",
       "1          72.0     75.0           0  \n",
       "2          88.0     94.0           0  \n",
       "3          68.0     94.0           1  \n",
       "4          70.0     77.0           0  \n",
       "...         ...      ...         ...  \n",
       "3385       70.0    103.0           0  \n",
       "3386       80.0     84.0           0  \n",
       "3387       73.0     72.0           1  \n",
       "3388       80.0     85.0           0  \n",
       "3389       79.0     92.0           0  \n",
       "\n",
       "[3390 rows x 17 columns]"
      ]
     },
     "execution_count": 127,
     "metadata": {},
     "output_type": "execute_result"
    }
   ],
   "source": [
    "X"
   ]
  },
  {
   "cell_type": "markdown",
   "id": "dce63922",
   "metadata": {},
   "source": [
    "# 4-Обработка категориальных признаков"
   ]
  },
  {
   "cell_type": "code",
   "execution_count": 128,
   "id": "28431ed2",
   "metadata": {},
   "outputs": [
    {
     "data": {
      "text/html": [
       "<div>\n",
       "<style scoped>\n",
       "    .dataframe tbody tr th:only-of-type {\n",
       "        vertical-align: middle;\n",
       "    }\n",
       "\n",
       "    .dataframe tbody tr th {\n",
       "        vertical-align: top;\n",
       "    }\n",
       "\n",
       "    .dataframe thead th {\n",
       "        text-align: right;\n",
       "    }\n",
       "</style>\n",
       "<table border=\"1\" class=\"dataframe\">\n",
       "  <thead>\n",
       "    <tr style=\"text-align: right;\">\n",
       "      <th></th>\n",
       "      <th>sex</th>\n",
       "      <th>is_smoking</th>\n",
       "    </tr>\n",
       "  </thead>\n",
       "  <tbody>\n",
       "    <tr>\n",
       "      <th>count</th>\n",
       "      <td>3390</td>\n",
       "      <td>3390</td>\n",
       "    </tr>\n",
       "    <tr>\n",
       "      <th>unique</th>\n",
       "      <td>2</td>\n",
       "      <td>2</td>\n",
       "    </tr>\n",
       "    <tr>\n",
       "      <th>top</th>\n",
       "      <td>F</td>\n",
       "      <td>NO</td>\n",
       "    </tr>\n",
       "    <tr>\n",
       "      <th>freq</th>\n",
       "      <td>1923</td>\n",
       "      <td>1703</td>\n",
       "    </tr>\n",
       "  </tbody>\n",
       "</table>\n",
       "</div>"
      ],
      "text/plain": [
       "         sex is_smoking\n",
       "count   3390       3390\n",
       "unique     2          2\n",
       "top        F         NO\n",
       "freq    1923       1703"
      ]
     },
     "execution_count": 128,
     "metadata": {},
     "output_type": "execute_result"
    }
   ],
   "source": [
    "X.describe(include=['category'])"
   ]
  },
  {
   "cell_type": "markdown",
   "id": "14cb992a",
   "metadata": {},
   "source": [
    "Поскольку каждый из категориальных признаков принимает лишь 2 значения. Метод биниризации для большего числа кодирования значений не потребуется. Достаточно  закодировать значение '0' или '1'"
   ]
  },
  {
   "cell_type": "code",
   "execution_count": 129,
   "id": "c1e4d7e0",
   "metadata": {},
   "outputs": [],
   "source": [
    "X['sex'] = pd.factorize(X['sex'])[0]\n",
    "X['is_smoking'] = pd.factorize(X['is_smoking'])[0]"
   ]
  },
  {
   "cell_type": "code",
   "execution_count": 130,
   "id": "6bef8f53",
   "metadata": {},
   "outputs": [
    {
     "data": {
      "text/html": [
       "<div>\n",
       "<style scoped>\n",
       "    .dataframe tbody tr th:only-of-type {\n",
       "        vertical-align: middle;\n",
       "    }\n",
       "\n",
       "    .dataframe tbody tr th {\n",
       "        vertical-align: top;\n",
       "    }\n",
       "\n",
       "    .dataframe thead th {\n",
       "        text-align: right;\n",
       "    }\n",
       "</style>\n",
       "<table border=\"1\" class=\"dataframe\">\n",
       "  <thead>\n",
       "    <tr style=\"text-align: right;\">\n",
       "      <th></th>\n",
       "      <th>sex</th>\n",
       "      <th>is_smoking</th>\n",
       "    </tr>\n",
       "  </thead>\n",
       "  <tbody>\n",
       "    <tr>\n",
       "      <th>0</th>\n",
       "      <td>0</td>\n",
       "      <td>0</td>\n",
       "    </tr>\n",
       "    <tr>\n",
       "      <th>1</th>\n",
       "      <td>1</td>\n",
       "      <td>1</td>\n",
       "    </tr>\n",
       "    <tr>\n",
       "      <th>2</th>\n",
       "      <td>0</td>\n",
       "      <td>0</td>\n",
       "    </tr>\n",
       "    <tr>\n",
       "      <th>3</th>\n",
       "      <td>1</td>\n",
       "      <td>0</td>\n",
       "    </tr>\n",
       "    <tr>\n",
       "      <th>4</th>\n",
       "      <td>0</td>\n",
       "      <td>0</td>\n",
       "    </tr>\n",
       "    <tr>\n",
       "      <th>...</th>\n",
       "      <td>...</td>\n",
       "      <td>...</td>\n",
       "    </tr>\n",
       "    <tr>\n",
       "      <th>3385</th>\n",
       "      <td>0</td>\n",
       "      <td>1</td>\n",
       "    </tr>\n",
       "    <tr>\n",
       "      <th>3386</th>\n",
       "      <td>0</td>\n",
       "      <td>1</td>\n",
       "    </tr>\n",
       "    <tr>\n",
       "      <th>3387</th>\n",
       "      <td>1</td>\n",
       "      <td>0</td>\n",
       "    </tr>\n",
       "    <tr>\n",
       "      <th>3388</th>\n",
       "      <td>1</td>\n",
       "      <td>1</td>\n",
       "    </tr>\n",
       "    <tr>\n",
       "      <th>3389</th>\n",
       "      <td>0</td>\n",
       "      <td>1</td>\n",
       "    </tr>\n",
       "  </tbody>\n",
       "</table>\n",
       "<p>3390 rows × 2 columns</p>\n",
       "</div>"
      ],
      "text/plain": [
       "      sex  is_smoking\n",
       "0       0           0\n",
       "1       1           1\n",
       "2       0           0\n",
       "3       1           0\n",
       "4       0           0\n",
       "...   ...         ...\n",
       "3385    0           1\n",
       "3386    0           1\n",
       "3387    1           0\n",
       "3388    1           1\n",
       "3389    0           1\n",
       "\n",
       "[3390 rows x 2 columns]"
      ]
     },
     "execution_count": 130,
     "metadata": {},
     "output_type": "execute_result"
    }
   ],
   "source": [
    "X.loc[:,['sex', 'is_smoking']]"
   ]
  },
  {
   "cell_type": "markdown",
   "id": "d1ab122d",
   "metadata": {},
   "source": [
    "Для признака 'sex' Fmale - '0', Male - '1' ; 'is_smoking'  YES - '0', NO -'1'"
   ]
  },
  {
   "cell_type": "code",
   "execution_count": 131,
   "id": "3538c646",
   "metadata": {},
   "outputs": [
    {
     "data": {
      "text/html": [
       "<div>\n",
       "<style scoped>\n",
       "    .dataframe tbody tr th:only-of-type {\n",
       "        vertical-align: middle;\n",
       "    }\n",
       "\n",
       "    .dataframe tbody tr th {\n",
       "        vertical-align: top;\n",
       "    }\n",
       "\n",
       "    .dataframe thead th {\n",
       "        text-align: right;\n",
       "    }\n",
       "</style>\n",
       "<table border=\"1\" class=\"dataframe\">\n",
       "  <thead>\n",
       "    <tr style=\"text-align: right;\">\n",
       "      <th></th>\n",
       "      <th>id</th>\n",
       "      <th>age</th>\n",
       "      <th>education</th>\n",
       "      <th>sex</th>\n",
       "      <th>is_smoking</th>\n",
       "      <th>cigsPerDay</th>\n",
       "      <th>BPMeds</th>\n",
       "      <th>prevalentStroke</th>\n",
       "      <th>prevalentHyp</th>\n",
       "      <th>diabetes</th>\n",
       "      <th>totChol</th>\n",
       "      <th>sysBP</th>\n",
       "      <th>diaBP</th>\n",
       "      <th>BMI</th>\n",
       "      <th>heartRate</th>\n",
       "      <th>glucose</th>\n",
       "      <th>TenYearCHD</th>\n",
       "    </tr>\n",
       "  </thead>\n",
       "  <tbody>\n",
       "    <tr>\n",
       "      <th>count</th>\n",
       "      <td>3390.000000</td>\n",
       "      <td>3390.000000</td>\n",
       "      <td>3390.000000</td>\n",
       "      <td>3390.000000</td>\n",
       "      <td>3390.000000</td>\n",
       "      <td>3390.000000</td>\n",
       "      <td>3390.000000</td>\n",
       "      <td>3390.000000</td>\n",
       "      <td>3390.000000</td>\n",
       "      <td>3390.000000</td>\n",
       "      <td>3390.000000</td>\n",
       "      <td>3390.00000</td>\n",
       "      <td>3390.000000</td>\n",
       "      <td>3390.000000</td>\n",
       "      <td>3390.000000</td>\n",
       "      <td>3390.000000</td>\n",
       "      <td>3390.000000</td>\n",
       "    </tr>\n",
       "    <tr>\n",
       "      <th>mean</th>\n",
       "      <td>1694.500000</td>\n",
       "      <td>49.542183</td>\n",
       "      <td>1.971681</td>\n",
       "      <td>0.432743</td>\n",
       "      <td>0.502360</td>\n",
       "      <td>9.010619</td>\n",
       "      <td>0.029499</td>\n",
       "      <td>0.006490</td>\n",
       "      <td>0.315339</td>\n",
       "      <td>0.025664</td>\n",
       "      <td>237.039823</td>\n",
       "      <td>132.60118</td>\n",
       "      <td>82.883038</td>\n",
       "      <td>25.793251</td>\n",
       "      <td>75.976991</td>\n",
       "      <td>81.720059</td>\n",
       "      <td>0.150737</td>\n",
       "    </tr>\n",
       "    <tr>\n",
       "      <th>std</th>\n",
       "      <td>978.753033</td>\n",
       "      <td>8.592878</td>\n",
       "      <td>1.005925</td>\n",
       "      <td>0.495529</td>\n",
       "      <td>0.500068</td>\n",
       "      <td>11.862839</td>\n",
       "      <td>0.169224</td>\n",
       "      <td>0.080309</td>\n",
       "      <td>0.464719</td>\n",
       "      <td>0.158153</td>\n",
       "      <td>44.994205</td>\n",
       "      <td>22.29203</td>\n",
       "      <td>12.023581</td>\n",
       "      <td>4.107026</td>\n",
       "      <td>11.970114</td>\n",
       "      <td>23.161265</td>\n",
       "      <td>0.357846</td>\n",
       "    </tr>\n",
       "    <tr>\n",
       "      <th>min</th>\n",
       "      <td>0.000000</td>\n",
       "      <td>32.000000</td>\n",
       "      <td>1.000000</td>\n",
       "      <td>0.000000</td>\n",
       "      <td>0.000000</td>\n",
       "      <td>0.000000</td>\n",
       "      <td>0.000000</td>\n",
       "      <td>0.000000</td>\n",
       "      <td>0.000000</td>\n",
       "      <td>0.000000</td>\n",
       "      <td>107.000000</td>\n",
       "      <td>83.50000</td>\n",
       "      <td>48.000000</td>\n",
       "      <td>15.960000</td>\n",
       "      <td>45.000000</td>\n",
       "      <td>40.000000</td>\n",
       "      <td>0.000000</td>\n",
       "    </tr>\n",
       "    <tr>\n",
       "      <th>25%</th>\n",
       "      <td>847.250000</td>\n",
       "      <td>42.000000</td>\n",
       "      <td>1.000000</td>\n",
       "      <td>0.000000</td>\n",
       "      <td>0.000000</td>\n",
       "      <td>0.000000</td>\n",
       "      <td>0.000000</td>\n",
       "      <td>0.000000</td>\n",
       "      <td>0.000000</td>\n",
       "      <td>0.000000</td>\n",
       "      <td>206.000000</td>\n",
       "      <td>117.00000</td>\n",
       "      <td>74.500000</td>\n",
       "      <td>23.030000</td>\n",
       "      <td>68.000000</td>\n",
       "      <td>72.000000</td>\n",
       "      <td>0.000000</td>\n",
       "    </tr>\n",
       "    <tr>\n",
       "      <th>50%</th>\n",
       "      <td>1694.500000</td>\n",
       "      <td>49.000000</td>\n",
       "      <td>2.000000</td>\n",
       "      <td>0.000000</td>\n",
       "      <td>1.000000</td>\n",
       "      <td>0.000000</td>\n",
       "      <td>0.000000</td>\n",
       "      <td>0.000000</td>\n",
       "      <td>0.000000</td>\n",
       "      <td>0.000000</td>\n",
       "      <td>234.000000</td>\n",
       "      <td>128.50000</td>\n",
       "      <td>82.000000</td>\n",
       "      <td>25.380000</td>\n",
       "      <td>75.000000</td>\n",
       "      <td>78.000000</td>\n",
       "      <td>0.000000</td>\n",
       "    </tr>\n",
       "    <tr>\n",
       "      <th>75%</th>\n",
       "      <td>2541.750000</td>\n",
       "      <td>56.000000</td>\n",
       "      <td>3.000000</td>\n",
       "      <td>1.000000</td>\n",
       "      <td>1.000000</td>\n",
       "      <td>20.000000</td>\n",
       "      <td>0.000000</td>\n",
       "      <td>0.000000</td>\n",
       "      <td>1.000000</td>\n",
       "      <td>0.000000</td>\n",
       "      <td>264.000000</td>\n",
       "      <td>144.00000</td>\n",
       "      <td>90.000000</td>\n",
       "      <td>27.997500</td>\n",
       "      <td>83.000000</td>\n",
       "      <td>85.000000</td>\n",
       "      <td>0.000000</td>\n",
       "    </tr>\n",
       "    <tr>\n",
       "      <th>max</th>\n",
       "      <td>3389.000000</td>\n",
       "      <td>70.000000</td>\n",
       "      <td>4.000000</td>\n",
       "      <td>1.000000</td>\n",
       "      <td>1.000000</td>\n",
       "      <td>70.000000</td>\n",
       "      <td>1.000000</td>\n",
       "      <td>1.000000</td>\n",
       "      <td>1.000000</td>\n",
       "      <td>1.000000</td>\n",
       "      <td>696.000000</td>\n",
       "      <td>295.00000</td>\n",
       "      <td>142.500000</td>\n",
       "      <td>56.800000</td>\n",
       "      <td>143.000000</td>\n",
       "      <td>394.000000</td>\n",
       "      <td>1.000000</td>\n",
       "    </tr>\n",
       "  </tbody>\n",
       "</table>\n",
       "</div>"
      ],
      "text/plain": [
       "                id          age    education          sex   is_smoking  \\\n",
       "count  3390.000000  3390.000000  3390.000000  3390.000000  3390.000000   \n",
       "mean   1694.500000    49.542183     1.971681     0.432743     0.502360   \n",
       "std     978.753033     8.592878     1.005925     0.495529     0.500068   \n",
       "min       0.000000    32.000000     1.000000     0.000000     0.000000   \n",
       "25%     847.250000    42.000000     1.000000     0.000000     0.000000   \n",
       "50%    1694.500000    49.000000     2.000000     0.000000     1.000000   \n",
       "75%    2541.750000    56.000000     3.000000     1.000000     1.000000   \n",
       "max    3389.000000    70.000000     4.000000     1.000000     1.000000   \n",
       "\n",
       "        cigsPerDay       BPMeds  prevalentStroke  prevalentHyp     diabetes  \\\n",
       "count  3390.000000  3390.000000      3390.000000   3390.000000  3390.000000   \n",
       "mean      9.010619     0.029499         0.006490      0.315339     0.025664   \n",
       "std      11.862839     0.169224         0.080309      0.464719     0.158153   \n",
       "min       0.000000     0.000000         0.000000      0.000000     0.000000   \n",
       "25%       0.000000     0.000000         0.000000      0.000000     0.000000   \n",
       "50%       0.000000     0.000000         0.000000      0.000000     0.000000   \n",
       "75%      20.000000     0.000000         0.000000      1.000000     0.000000   \n",
       "max      70.000000     1.000000         1.000000      1.000000     1.000000   \n",
       "\n",
       "           totChol       sysBP        diaBP          BMI    heartRate  \\\n",
       "count  3390.000000  3390.00000  3390.000000  3390.000000  3390.000000   \n",
       "mean    237.039823   132.60118    82.883038    25.793251    75.976991   \n",
       "std      44.994205    22.29203    12.023581     4.107026    11.970114   \n",
       "min     107.000000    83.50000    48.000000    15.960000    45.000000   \n",
       "25%     206.000000   117.00000    74.500000    23.030000    68.000000   \n",
       "50%     234.000000   128.50000    82.000000    25.380000    75.000000   \n",
       "75%     264.000000   144.00000    90.000000    27.997500    83.000000   \n",
       "max     696.000000   295.00000   142.500000    56.800000   143.000000   \n",
       "\n",
       "           glucose   TenYearCHD  \n",
       "count  3390.000000  3390.000000  \n",
       "mean     81.720059     0.150737  \n",
       "std      23.161265     0.357846  \n",
       "min      40.000000     0.000000  \n",
       "25%      72.000000     0.000000  \n",
       "50%      78.000000     0.000000  \n",
       "75%      85.000000     0.000000  \n",
       "max     394.000000     1.000000  "
      ]
     },
     "execution_count": 131,
     "metadata": {},
     "output_type": "execute_result"
    }
   ],
   "source": [
    "X.describe()"
   ]
  },
  {
   "cell_type": "markdown",
   "id": "0a27082e",
   "metadata": {},
   "source": [
    "# 5-Нормализация количественных признаков\n",
    "Метод стандартизации"
   ]
  },
  {
   "cell_type": "code",
   "execution_count": 132,
   "id": "4798abed",
   "metadata": {},
   "outputs": [],
   "source": [
    "X_stand = (X - X.mean(axis = 0))/X.std(axis = 0)"
   ]
  },
  {
   "cell_type": "code",
   "execution_count": 133,
   "id": "78023c11",
   "metadata": {},
   "outputs": [
    {
     "data": {
      "text/html": [
       "<div>\n",
       "<style scoped>\n",
       "    .dataframe tbody tr th:only-of-type {\n",
       "        vertical-align: middle;\n",
       "    }\n",
       "\n",
       "    .dataframe tbody tr th {\n",
       "        vertical-align: top;\n",
       "    }\n",
       "\n",
       "    .dataframe thead th {\n",
       "        text-align: right;\n",
       "    }\n",
       "</style>\n",
       "<table border=\"1\" class=\"dataframe\">\n",
       "  <thead>\n",
       "    <tr style=\"text-align: right;\">\n",
       "      <th></th>\n",
       "      <th>id</th>\n",
       "      <th>age</th>\n",
       "      <th>education</th>\n",
       "      <th>sex</th>\n",
       "      <th>is_smoking</th>\n",
       "      <th>cigsPerDay</th>\n",
       "      <th>BPMeds</th>\n",
       "      <th>prevalentStroke</th>\n",
       "      <th>prevalentHyp</th>\n",
       "      <th>diabetes</th>\n",
       "      <th>totChol</th>\n",
       "      <th>sysBP</th>\n",
       "      <th>diaBP</th>\n",
       "      <th>BMI</th>\n",
       "      <th>heartRate</th>\n",
       "      <th>glucose</th>\n",
       "      <th>TenYearCHD</th>\n",
       "    </tr>\n",
       "  </thead>\n",
       "  <tbody>\n",
       "    <tr>\n",
       "      <th>count</th>\n",
       "      <td>3.390000e+03</td>\n",
       "      <td>3.390000e+03</td>\n",
       "      <td>3.390000e+03</td>\n",
       "      <td>3.390000e+03</td>\n",
       "      <td>3.390000e+03</td>\n",
       "      <td>3.390000e+03</td>\n",
       "      <td>3.390000e+03</td>\n",
       "      <td>3.390000e+03</td>\n",
       "      <td>3.390000e+03</td>\n",
       "      <td>3.390000e+03</td>\n",
       "      <td>3.390000e+03</td>\n",
       "      <td>3.390000e+03</td>\n",
       "      <td>3.390000e+03</td>\n",
       "      <td>3.390000e+03</td>\n",
       "      <td>3.390000e+03</td>\n",
       "      <td>3.390000e+03</td>\n",
       "      <td>3.390000e+03</td>\n",
       "    </tr>\n",
       "    <tr>\n",
       "      <th>mean</th>\n",
       "      <td>3.582844e-17</td>\n",
       "      <td>5.649365e-17</td>\n",
       "      <td>-4.347227e-16</td>\n",
       "      <td>5.868790e-17</td>\n",
       "      <td>1.397113e-16</td>\n",
       "      <td>2.156911e-16</td>\n",
       "      <td>-1.833997e-18</td>\n",
       "      <td>1.051036e-15</td>\n",
       "      <td>-1.621450e-16</td>\n",
       "      <td>-2.936032e-17</td>\n",
       "      <td>-2.014121e-16</td>\n",
       "      <td>-1.938142e-16</td>\n",
       "      <td>2.330650e-16</td>\n",
       "      <td>8.088319e-15</td>\n",
       "      <td>4.053460e-16</td>\n",
       "      <td>1.088117e-16</td>\n",
       "      <td>-8.285735e-18</td>\n",
       "    </tr>\n",
       "    <tr>\n",
       "      <th>std</th>\n",
       "      <td>1.000000e+00</td>\n",
       "      <td>1.000000e+00</td>\n",
       "      <td>1.000000e+00</td>\n",
       "      <td>1.000000e+00</td>\n",
       "      <td>1.000000e+00</td>\n",
       "      <td>1.000000e+00</td>\n",
       "      <td>1.000000e+00</td>\n",
       "      <td>1.000000e+00</td>\n",
       "      <td>1.000000e+00</td>\n",
       "      <td>1.000000e+00</td>\n",
       "      <td>1.000000e+00</td>\n",
       "      <td>1.000000e+00</td>\n",
       "      <td>1.000000e+00</td>\n",
       "      <td>1.000000e+00</td>\n",
       "      <td>1.000000e+00</td>\n",
       "      <td>1.000000e+00</td>\n",
       "      <td>1.000000e+00</td>\n",
       "    </tr>\n",
       "    <tr>\n",
       "      <th>min</th>\n",
       "      <td>-1.731285e+00</td>\n",
       "      <td>-2.041479e+00</td>\n",
       "      <td>-9.659577e-01</td>\n",
       "      <td>-8.732958e-01</td>\n",
       "      <td>-1.004583e+00</td>\n",
       "      <td>-7.595669e-01</td>\n",
       "      <td>-1.743163e-01</td>\n",
       "      <td>-8.080928e-02</td>\n",
       "      <td>-6.785584e-01</td>\n",
       "      <td>-1.622711e-01</td>\n",
       "      <td>-2.890146e+00</td>\n",
       "      <td>-2.202634e+00</td>\n",
       "      <td>-2.901219e+00</td>\n",
       "      <td>-2.394251e+00</td>\n",
       "      <td>-2.587861e+00</td>\n",
       "      <td>-1.801286e+00</td>\n",
       "      <td>-4.212361e-01</td>\n",
       "    </tr>\n",
       "    <tr>\n",
       "      <th>25%</th>\n",
       "      <td>-8.656423e-01</td>\n",
       "      <td>-8.777249e-01</td>\n",
       "      <td>-9.659577e-01</td>\n",
       "      <td>-8.732958e-01</td>\n",
       "      <td>-1.004583e+00</td>\n",
       "      <td>-7.595669e-01</td>\n",
       "      <td>-1.743163e-01</td>\n",
       "      <td>-8.080928e-02</td>\n",
       "      <td>-6.785584e-01</td>\n",
       "      <td>-1.622711e-01</td>\n",
       "      <td>-6.898627e-01</td>\n",
       "      <td>-6.998546e-01</td>\n",
       "      <td>-6.972164e-01</td>\n",
       "      <td>-6.728107e-01</td>\n",
       "      <td>-6.664090e-01</td>\n",
       "      <td>-4.196687e-01</td>\n",
       "      <td>-4.212361e-01</td>\n",
       "    </tr>\n",
       "    <tr>\n",
       "      <th>50%</th>\n",
       "      <td>0.000000e+00</td>\n",
       "      <td>-6.309677e-02</td>\n",
       "      <td>2.815177e-02</td>\n",
       "      <td>-8.732958e-01</td>\n",
       "      <td>9.951445e-01</td>\n",
       "      <td>-7.595669e-01</td>\n",
       "      <td>-1.743163e-01</td>\n",
       "      <td>-8.080928e-02</td>\n",
       "      <td>-6.785584e-01</td>\n",
       "      <td>-1.622711e-01</td>\n",
       "      <td>-6.756032e-02</td>\n",
       "      <td>-1.839752e-01</td>\n",
       "      <td>-7.344221e-02</td>\n",
       "      <td>-1.006204e-01</td>\n",
       "      <td>-8.161920e-02</td>\n",
       "      <td>-1.606155e-01</td>\n",
       "      <td>-4.212361e-01</td>\n",
       "    </tr>\n",
       "    <tr>\n",
       "      <th>75%</th>\n",
       "      <td>8.656423e-01</td>\n",
       "      <td>7.515313e-01</td>\n",
       "      <td>1.022261e+00</td>\n",
       "      <td>1.144750e+00</td>\n",
       "      <td>9.951445e-01</td>\n",
       "      <td>9.263702e-01</td>\n",
       "      <td>-1.743163e-01</td>\n",
       "      <td>-8.080928e-02</td>\n",
       "      <td>1.473278e+00</td>\n",
       "      <td>-1.622711e-01</td>\n",
       "      <td>5.991922e-01</td>\n",
       "      <td>5.113406e-01</td>\n",
       "      <td>5.919170e-01</td>\n",
       "      <td>5.367021e-01</td>\n",
       "      <td>5.867120e-01</td>\n",
       "      <td>1.416132e-01</td>\n",
       "      <td>-4.212361e-01</td>\n",
       "    </tr>\n",
       "    <tr>\n",
       "      <th>max</th>\n",
       "      <td>1.731285e+00</td>\n",
       "      <td>2.380788e+00</td>\n",
       "      <td>2.016371e+00</td>\n",
       "      <td>1.144750e+00</td>\n",
       "      <td>9.951445e-01</td>\n",
       "      <td>5.141213e+00</td>\n",
       "      <td>5.735006e+00</td>\n",
       "      <td>1.237117e+01</td>\n",
       "      <td>1.473278e+00</td>\n",
       "      <td>6.160708e+00</td>\n",
       "      <td>1.020043e+01</td>\n",
       "      <td>7.285062e+00</td>\n",
       "      <td>4.958337e+00</td>\n",
       "      <td>7.549685e+00</td>\n",
       "      <td>5.599196e+00</td>\n",
       "      <td>1.348285e+01</td>\n",
       "      <td>2.373265e+00</td>\n",
       "    </tr>\n",
       "  </tbody>\n",
       "</table>\n",
       "</div>"
      ],
      "text/plain": [
       "                 id           age     education           sex    is_smoking  \\\n",
       "count  3.390000e+03  3.390000e+03  3.390000e+03  3.390000e+03  3.390000e+03   \n",
       "mean   3.582844e-17  5.649365e-17 -4.347227e-16  5.868790e-17  1.397113e-16   \n",
       "std    1.000000e+00  1.000000e+00  1.000000e+00  1.000000e+00  1.000000e+00   \n",
       "min   -1.731285e+00 -2.041479e+00 -9.659577e-01 -8.732958e-01 -1.004583e+00   \n",
       "25%   -8.656423e-01 -8.777249e-01 -9.659577e-01 -8.732958e-01 -1.004583e+00   \n",
       "50%    0.000000e+00 -6.309677e-02  2.815177e-02 -8.732958e-01  9.951445e-01   \n",
       "75%    8.656423e-01  7.515313e-01  1.022261e+00  1.144750e+00  9.951445e-01   \n",
       "max    1.731285e+00  2.380788e+00  2.016371e+00  1.144750e+00  9.951445e-01   \n",
       "\n",
       "         cigsPerDay        BPMeds  prevalentStroke  prevalentHyp  \\\n",
       "count  3.390000e+03  3.390000e+03     3.390000e+03  3.390000e+03   \n",
       "mean   2.156911e-16 -1.833997e-18     1.051036e-15 -1.621450e-16   \n",
       "std    1.000000e+00  1.000000e+00     1.000000e+00  1.000000e+00   \n",
       "min   -7.595669e-01 -1.743163e-01    -8.080928e-02 -6.785584e-01   \n",
       "25%   -7.595669e-01 -1.743163e-01    -8.080928e-02 -6.785584e-01   \n",
       "50%   -7.595669e-01 -1.743163e-01    -8.080928e-02 -6.785584e-01   \n",
       "75%    9.263702e-01 -1.743163e-01    -8.080928e-02  1.473278e+00   \n",
       "max    5.141213e+00  5.735006e+00     1.237117e+01  1.473278e+00   \n",
       "\n",
       "           diabetes       totChol         sysBP         diaBP           BMI  \\\n",
       "count  3.390000e+03  3.390000e+03  3.390000e+03  3.390000e+03  3.390000e+03   \n",
       "mean  -2.936032e-17 -2.014121e-16 -1.938142e-16  2.330650e-16  8.088319e-15   \n",
       "std    1.000000e+00  1.000000e+00  1.000000e+00  1.000000e+00  1.000000e+00   \n",
       "min   -1.622711e-01 -2.890146e+00 -2.202634e+00 -2.901219e+00 -2.394251e+00   \n",
       "25%   -1.622711e-01 -6.898627e-01 -6.998546e-01 -6.972164e-01 -6.728107e-01   \n",
       "50%   -1.622711e-01 -6.756032e-02 -1.839752e-01 -7.344221e-02 -1.006204e-01   \n",
       "75%   -1.622711e-01  5.991922e-01  5.113406e-01  5.919170e-01  5.367021e-01   \n",
       "max    6.160708e+00  1.020043e+01  7.285062e+00  4.958337e+00  7.549685e+00   \n",
       "\n",
       "          heartRate       glucose    TenYearCHD  \n",
       "count  3.390000e+03  3.390000e+03  3.390000e+03  \n",
       "mean   4.053460e-16  1.088117e-16 -8.285735e-18  \n",
       "std    1.000000e+00  1.000000e+00  1.000000e+00  \n",
       "min   -2.587861e+00 -1.801286e+00 -4.212361e-01  \n",
       "25%   -6.664090e-01 -4.196687e-01 -4.212361e-01  \n",
       "50%   -8.161920e-02 -1.606155e-01 -4.212361e-01  \n",
       "75%    5.867120e-01  1.416132e-01 -4.212361e-01  \n",
       "max    5.599196e+00  1.348285e+01  2.373265e+00  "
      ]
     },
     "execution_count": 133,
     "metadata": {},
     "output_type": "execute_result"
    }
   ],
   "source": [
    "X_stand.describe()"
   ]
  },
  {
   "cell_type": "markdown",
   "id": "a3edf6d2",
   "metadata": {},
   "source": [
    "# 6 - Отбор признаков"
   ]
  },
  {
   "cell_type": "markdown",
   "id": "730c9f0c",
   "metadata": {},
   "source": [
    "Перед тем как вызывать метод машинного обучения необходимо произвести отбор признаков, а также сформировать матрицу с входными признаками и столбец с выходным признаком. "
   ]
  },
  {
   "cell_type": "code",
   "execution_count": 134,
   "id": "4943c86d",
   "metadata": {},
   "outputs": [
    {
     "data": {
      "text/plain": [
       "Index(['id', 'age', 'education', 'sex', 'is_smoking', 'cigsPerDay', 'BPMeds',\n",
       "       'prevalentStroke', 'prevalentHyp', 'diabetes', 'totChol', 'sysBP',\n",
       "       'diaBP', 'BMI', 'heartRate', 'glucose', 'TenYearCHD'],\n",
       "      dtype='object')"
      ]
     },
     "execution_count": 134,
     "metadata": {},
     "output_type": "execute_result"
    }
   ],
   "source": [
    "X_stand.columns"
   ]
  },
  {
   "cell_type": "markdown",
   "id": "1a370582",
   "metadata": {},
   "source": [
    "Для предсказания используем все входные признаки, кроме id. Поскольку он не имеет никакой особой значимости.\n"
   ]
  },
  {
   "cell_type": "code",
   "execution_count": 135,
   "id": "7c4b28ca",
   "metadata": {},
   "outputs": [
    {
     "data": {
      "text/plain": [
       "(3390, 15)"
      ]
     },
     "execution_count": 135,
     "metadata": {},
     "output_type": "execute_result"
    }
   ],
   "source": [
    "M = X_stand.drop(['TenYearCHD', 'id'], axis=1)\n",
    "Y = X['TenYearCHD']\n",
    "M.shape"
   ]
  },
  {
   "cell_type": "markdown",
   "id": "b7952829",
   "metadata": {},
   "source": [
    "# 7 - Разбиение данных на обучуающую и тестовые выборки"
   ]
  },
  {
   "cell_type": "markdown",
   "id": "a530062e",
   "metadata": {},
   "source": [
    "Разобьем данные в пропорции 3:1 (75% - обучающая, 25% - тестовая):"
   ]
  },
  {
   "cell_type": "code",
   "execution_count": 136,
   "id": "f3e2e6c0",
   "metadata": {},
   "outputs": [
    {
     "data": {
      "text/plain": [
       "(2542, 848)"
      ]
     },
     "execution_count": 136,
     "metadata": {},
     "output_type": "execute_result"
    }
   ],
   "source": [
    "from sklearn.model_selection import train_test_split\n",
    "X_train, X_test, y_train, y_test = train_test_split(M, Y, test_size = 0.25, random_state = 42)\n",
    "\n",
    "N_train, _ = X_train.shape \n",
    "N_test,  _ = X_test.shape\n",
    "\n",
    "N_train, N_test"
   ]
  },
  {
   "cell_type": "markdown",
   "id": "cd9892a6",
   "metadata": {},
   "source": [
    "# 8 - Примение алгоритма KNN"
   ]
  },
  {
   "cell_type": "code",
   "execution_count": 137,
   "id": "a2fb274d",
   "metadata": {},
   "outputs": [],
   "source": [
    "from sklearn.neighbors import KNeighborsClassifier"
   ]
  },
  {
   "cell_type": "code",
   "execution_count": 138,
   "id": "8985c6e6",
   "metadata": {},
   "outputs": [
    {
     "data": {
      "text/plain": [
       "Text(0, 0.5, 'error')"
      ]
     },
     "execution_count": 138,
     "metadata": {},
     "output_type": "execute_result"
    },
    {
     "data": {
      "image/png": "[encoded data removed]",
      "text/plain": [
       "<Figure size 432x288 with 1 Axes>"
      ]
     },
     "metadata": {
      "needs_background": "light"
     },
     "output_type": "display_data"
    }
   ],
   "source": [
    "errors=[]\n",
    "K=np.arange(1,30)\n",
    "for k in K:\n",
    "    model= KNeighborsClassifier(k)\n",
    "    model.fit(X_train,y_train)\n",
    "    pred= model.predict(X_test)\n",
    "    error= np.mean(pred!=y_test)\n",
    "    errors.append(error)\n",
    "\n",
    "plt.plot(K,errors)\n",
    "plt.xlabel('Count of Neighbours, K')\n",
    "plt.ylabel('error')"
   ]
  },
  {
   "cell_type": "code",
   "execution_count": 139,
   "id": "c1b44d4f",
   "metadata": {},
   "outputs": [
    {
     "name": "stdout",
     "output_type": "stream",
     "text": [
      "0.15330188679245282\n"
     ]
    }
   ],
   "source": [
    "model= KNeighborsClassifier(13)\n",
    "model.fit(X_train,y_train)\n",
    "pred= model.predict(X_test)\n",
    "correct= np.mean(pred!=y_test)\n",
    "print(correct)"
   ]
  },
  {
   "cell_type": "markdown",
   "id": "d77119b7",
   "metadata": {},
   "source": [
    "## Ошибка предсказания на тестовой выборке в целом равна 15% (при  K=13)"
   ]
  },
  {
   "cell_type": "code",
   "execution_count": 140,
   "id": "98ee0e86",
   "metadata": {},
   "outputs": [
    {
     "data": {
      "text/plain": [
       "0.8544453186467349"
      ]
     },
     "execution_count": 140,
     "metadata": {},
     "output_type": "execute_result"
    }
   ],
   "source": [
    "y_test_pred = model.predict(X_test)\n",
    "np.mean(y_train == y_train_pred)"
   ]
  },
  {
   "cell_type": "markdown",
   "id": "18655dd8",
   "metadata": {},
   "source": [
    "## Предсказание выходного значения y_test по входным X_test  определяется  c вероятностью 85% ( при K = 13)"
   ]
  },
  {
   "cell_type": "code",
   "execution_count": 141,
   "id": "6fe8a858",
   "metadata": {},
   "outputs": [
    {
     "data": {
      "text/plain": [
       "0.8544453186467349"
      ]
     },
     "execution_count": 141,
     "metadata": {},
     "output_type": "execute_result"
    }
   ],
   "source": [
    "y_train_pred = model.predict(X_train)\n",
    "np.mean(y_train == y_train_pred)"
   ]
  },
  {
   "cell_type": "markdown",
   "id": "bd369f8e",
   "metadata": {},
   "source": [
    "## Предсказание выходного значения y_train по входным X_train  определяется  c вероятностью 85% ( при K = 13)"
   ]
  },
  {
   "cell_type": "markdown",
   "id": "c7fb5ad3",
   "metadata": {},
   "source": [
    "### В заключении можно сказать о том, что модель, построенная с помощью алгоритма КNN, предсказывает достаточно корректно ( вероятность предсказания на тестовой выборке  и на на обучающей  выборке = 85%), что в целом является достаточно не плохим результатом"
   ]
  },
  {
   "cell_type": "code",
   "execution_count": 142,
   "id": "6bd952ab",
   "metadata": {},
   "outputs": [
    {
     "name": "stdout",
     "output_type": "stream",
     "text": [
      "0    2161\n",
      "1     381\n",
      "Name: TenYearCHD, dtype: int64\n"
     ]
    }
   ],
   "source": [
    "print (y_train.value_counts())"
   ]
  },
  {
   "cell_type": "code",
   "execution_count": 143,
   "id": "9ad11745",
   "metadata": {},
   "outputs": [
    {
     "data": {
      "text/plain": [
       "array([0, 0, 0, ..., 0, 0, 0], dtype=int64)"
      ]
     },
     "execution_count": 143,
     "metadata": {},
     "output_type": "execute_result"
    }
   ],
   "source": [
    "y_train_pred"
   ]
  },
  {
   "cell_type": "code",
   "execution_count": 144,
   "id": "f04940db",
   "metadata": {},
   "outputs": [
    {
     "data": {
      "text/plain": [
       "0.14555468135326516"
      ]
     },
     "execution_count": 144,
     "metadata": {},
     "output_type": "execute_result"
    }
   ],
   "source": [
    "\n",
    "np.mean(y_train_pred!=y_train)   # Ошибка на обучающей выборке"
   ]
  },
  {
   "cell_type": "code",
   "execution_count": 145,
   "id": "2df1568e",
   "metadata": {},
   "outputs": [
    {
     "data": {
      "text/plain": [
       "0.15330188679245282"
      ]
     },
     "execution_count": 145,
     "metadata": {},
     "output_type": "execute_result"
    }
   ],
   "source": [
    "np.mean(y_test_pred!=y_test) # Ошибка на тестовой выборке"
   ]
  },
  {
   "cell_type": "code",
   "execution_count": 146,
   "id": "ea4b3b59",
   "metadata": {},
   "outputs": [
    {
     "name": "stdout",
     "output_type": "stream",
     "text": [
      "[[711 123]\n",
      " [  7   7]]\n"
     ]
    }
   ],
   "source": [
    "#from sklearn import sklearn.metrics.confusion_matrix\n",
    "print(sk.metrics.confusion_matrix(y_test_pred, y_test))"
   ]
  },
  {
   "cell_type": "code",
   "execution_count": 147,
   "id": "0b031640",
   "metadata": {},
   "outputs": [
    {
     "data": {
      "text/plain": [
       "([<matplotlib.axis.YTick at 0x20bb6298310>,\n",
       "  <matplotlib.axis.YTick at 0x20bb6295e80>],\n",
       " [Text(0, 0, ''), Text(0, 0, '')])"
      ]
     },
     "execution_count": 147,
     "metadata": {},
     "output_type": "execute_result"
    },
    {
     "data": {
      "image/png": "[encoded data removed]",
      "text/plain": [
       "<Figure size 432x288 with 2 Axes>"
      ]
     },
     "metadata": {
      "needs_background": "light"
     },
     "output_type": "display_data"
    }
   ],
   "source": [
    "plt.imshow(sk.metrics.confusion_matrix(y_test_pred, y_test), \n",
    "           interpolation='nearest', cmap = plt.cm.binary)\n",
    "plt.colorbar()\n",
    "plt.xlabel(\"predicted label\")\n",
    "plt.ylabel(\"true label\")\n",
    "plt.xticks([0, 1])\n",
    "plt.yticks([0, 1])"
   ]
  },
  {
   "cell_type": "code",
   "execution_count": 148,
   "id": "b6abfe3c",
   "metadata": {},
   "outputs": [],
   "source": [
    "from sklearn import neighbors\n",
    "kk = [1, 5, 10, 13] + list(range(10, 201, 10))\n",
    "err_train = []\n",
    "err_test = []\n",
    "for k in kk:\n",
    "    model = neighbors.KNeighborsClassifier(n_neighbors = k)\n",
    "    model.fit(X_train, y_train)\n",
    "    err_train.append(np.mean(model.predict(X_train) != y_train))\n",
    "    err_test.append(np.mean(model.predict(X_test) != y_test))"
   ]
  },
  {
   "cell_type": "code",
   "execution_count": 149,
   "id": "3c5fef8e",
   "metadata": {},
   "outputs": [
    {
     "data": {
      "text/plain": [
       "<matplotlib.legend.Legend at 0x20bb633aa00>"
      ]
     },
     "execution_count": 149,
     "metadata": {},
     "output_type": "execute_result"
    },
    {
     "data": {
      "image/png": "[encoded data removed]",
      "text/plain": [
       "<Figure size 432x288 with 1 Axes>"
      ]
     },
     "metadata": {
      "needs_background": "light"
     },
     "output_type": "display_data"
    }
   ],
   "source": [
    "plt.plot(kk, err_train, '.-r', label = 'Train error')\n",
    "plt.plot(kk, err_test,  '.-b', label = 'Test error')    \n",
    "plt.legend(loc = 2)"
   ]
  },
  {
   "cell_type": "code",
   "execution_count": 150,
   "id": "378d2b93",
   "metadata": {},
   "outputs": [
    {
     "name": "stdout",
     "output_type": "stream",
     "text": [
      "0.1509433962264151\n",
      "30\n"
     ]
    }
   ],
   "source": [
    "print(min(err_test))\n",
    "print(kk[np.argmin(err_test)])"
   ]
  },
  {
   "cell_type": "code",
   "execution_count": 161,
   "id": "b2a01287",
   "metadata": {},
   "outputs": [
    {
     "name": "stdout",
     "output_type": "stream",
     "text": [
      "[[1. 0.]\n",
      " [1. 0.]]\n"
     ]
    }
   ],
   "source": [
    "print(confusion_matrix(y_test,model.predict(X_test),normalize='true'))"
   ]
  },
  {
   "cell_type": "code",
   "execution_count": 163,
   "id": "c0788420",
   "metadata": {},
   "outputs": [
    {
     "data": {
      "image/png": "[encoded data removed]",
      "text/plain": [
       "<Figure size 432x288 with 1 Axes>"
      ]
     },
     "metadata": {
      "needs_background": "light"
     },
     "output_type": "display_data"
    }
   ],
   "source": [
    "sns.countplot(x='TenYearCHD', data=X)\n",
    "pass"
   ]
  },
  {
   "cell_type": "markdown",
   "id": "7e5e6c0a",
   "metadata": {},
   "source": [
    "### Рассмотри другие алгоритмы машинного обучения, реализованные в scikit-learn"
   ]
  },
  {
   "cell_type": "markdown",
   "id": "8514f7fe",
   "metadata": {},
   "source": [
    "# svc (метод опорных векторов)"
   ]
  },
  {
   "cell_type": "code",
   "execution_count": 151,
   "id": "46ebfd88",
   "metadata": {},
   "outputs": [
    {
     "name": "stdout",
     "output_type": "stream",
     "text": [
      "Ошибка на train:  0.13886703383162863\n",
      "Ошибка на test:  0.15330188679245282\n"
     ]
    }
   ],
   "source": [
    "from sklearn.svm import SVC\n",
    "svc = SVC()\n",
    "svc.fit(X_train, y_train)\n",
    "\n",
    "err_train = np.mean(y_train != svc.predict(X_train))\n",
    "err_test  = np.mean(y_test  != svc.predict(X_test))\n",
    "\n",
    "print('Ошибка на train: ', err_train)\n",
    "print('Ошибка на test: ', err_test)"
   ]
  },
  {
   "cell_type": "markdown",
   "id": "785940a3",
   "metadata": {},
   "source": [
    "# Random Forest (Случайный лес)"
   ]
  },
  {
   "cell_type": "code",
   "execution_count": 152,
   "id": "a5db0e89",
   "metadata": {},
   "outputs": [
    {
     "name": "stdout",
     "output_type": "stream",
     "text": [
      "Ошибка на train:  0.0\n",
      "Ошибка на test:  0.1544811320754717\n"
     ]
    }
   ],
   "source": [
    "from sklearn import ensemble\n",
    "rf = ensemble.RandomForestClassifier(n_estimators = 1000)\n",
    "rf.fit(X_train, y_train)\n",
    "\n",
    "err_train = np.mean(y_train != rf.predict(X_train))\n",
    "err_test  = np.mean(y_test  != rf.predict(X_test))\n",
    "\n",
    "print('Ошибка на train: ', err_train)\n",
    "print('Ошибка на test: ', err_test)"
   ]
  },
  {
   "cell_type": "markdown",
   "id": "02a15bd8",
   "metadata": {},
   "source": [
    "# AdaBoost"
   ]
  },
  {
   "cell_type": "code",
   "execution_count": 157,
   "id": "c60873b7",
   "metadata": {},
   "outputs": [
    {
     "name": "stdout",
     "output_type": "stream",
     "text": [
      "Ошибка на train:  0.11644374508261211\n",
      "Ошибка на test:  0.16981132075471697\n"
     ]
    }
   ],
   "source": [
    "ada = ensemble.AdaBoostClassifier(n_estimators = 1000)\n",
    "ada.fit(X_train, y_train)\n",
    "\n",
    "err_train = np.mean(y_train != ada.predict(X_train))\n",
    "err_test = np.mean(y_test != ada.predict(X_test))\n",
    "\n",
    "print('Ошибка на train: ', err_train)\n",
    "print('Ошибка на test: ', err_test)"
   ]
  },
  {
   "cell_type": "markdown",
   "id": "a99c1a9e",
   "metadata": {},
   "source": [
    "# GBT"
   ]
  },
  {
   "cell_type": "code",
   "execution_count": 158,
   "id": "b2006437",
   "metadata": {},
   "outputs": [
    {
     "name": "stdout",
     "output_type": "stream",
     "text": [
      "Ошибка на train:  0.011801730920535013\n",
      "Ошибка на test:  0.1804245283018868\n"
     ]
    }
   ],
   "source": [
    "gbt = ensemble.GradientBoostingClassifier(n_estimators = 1000)\n",
    "gbt.fit(X_train, y_train)\n",
    "\n",
    "err_train = np.mean(y_train != gbt.predict(X_train))\n",
    "err_test = np.mean(y_test != gbt.predict(X_test))\n",
    "\n",
    "print('Ошибка на train: ', err_train)\n",
    "print('Ошибка на test: ', err_test)"
   ]
  },
  {
   "cell_type": "code",
   "execution_count": null,
   "id": "51c35412",
   "metadata": {},
   "outputs": [],
   "source": []
  }
 ],
 "metadata": {
  "kernelspec": {
   "display_name": "Python 3",
   "language": "python",
   "name": "python3"
  },
  "language_info": {
   "codemirror_mode": {
    "name": "ipython",
    "version": 3
   },
   "file_extension": ".py",
   "mimetype": "text/x-python",
   "name": "python",
   "nbconvert_exporter": "python",
   "pygments_lexer": "ipython3",
   "version": "3.8.8"
  }
 },
 "nbformat": 4,
 "nbformat_minor": 5
}
